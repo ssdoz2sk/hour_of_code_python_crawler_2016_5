{
 "cells": [
  {
   "cell_type": "markdown",
   "metadata": {
    "slideshow": {
     "slide_type": "slide"
    }
   },
   "source": [
    "##  hour of code\n",
    "# 利用Python抓取所需的資料\n"
   ]
  },
  {
   "cell_type": "markdown",
   "metadata": {
    "slideshow": {
     "slide_type": "slide"
    }
   },
   "source": [
    "# 相關套件\n",
    "* Install Python3\n",
    "打開 終端機 輸入(OSX)"
   ]
  },
  {
   "cell_type": "code",
   "execution_count": 1,
   "metadata": {
    "collapsed": false
   },
   "outputs": [
    {
     "name": "stdout",
     "output_type": "stream",
     "text": [
      "/bin/sh: 1: brew: not found\r\n"
     ]
    }
   ],
   "source": [
    "!brew install python3"
   ]
  },
  {
   "cell_type": "markdown",
   "metadata": {},
   "source": [
    "* 本次利用到的簡報功能請利用"
   ]
  },
  {
   "cell_type": "code",
   "execution_count": 2,
   "metadata": {
    "collapsed": false
   },
   "outputs": [
    {
     "name": "stdout",
     "output_type": "stream",
     "text": [
      "Requirement already satisfied (use --upgrade to upgrade): jupyter in /home/web/notebook/venv/notebook/lib/python3.4/site-packages\r\n",
      "Cleaning up...\r\n"
     ]
    }
   ],
   "source": [
    "!pip3 install jupyter"
   ]
  },
  {
   "cell_type": "markdown",
   "metadata": {
    "slideshow": {
     "slide_type": "subslide"
    }
   },
   "source": [
    "本次利用到的   \n",
    "\n",
    "第三方套件\n",
    "* BeautifulSoup \n",
    "* requests   \n",
    "* pandas   \n"
   ]
  },
  {
   "cell_type": "code",
   "execution_count": 3,
   "metadata": {
    "collapsed": false
   },
   "outputs": [
    {
     "name": "stdout",
     "output_type": "stream",
     "text": [
      "Requirement already satisfied (use --upgrade to upgrade): beautifulsoup4 in /home/web/notebook/venv/notebook/lib/python3.4/site-packages\r\n",
      "Cleaning up...\r\n"
     ]
    }
   ],
   "source": [
    "!pip3 install beautifulsoup4"
   ]
  },
  {
   "cell_type": "code",
   "execution_count": 4,
   "metadata": {
    "collapsed": false
   },
   "outputs": [
    {
     "name": "stdout",
     "output_type": "stream",
     "text": [
      "Requirement already satisfied (use --upgrade to upgrade): requests in /home/web/notebook/venv/notebook/lib/python3.4/site-packages\r\n",
      "Cleaning up...\r\n"
     ]
    }
   ],
   "source": [
    "!pip3 install requests"
   ]
  },
  {
   "cell_type": "code",
   "execution_count": 5,
   "metadata": {
    "collapsed": false
   },
   "outputs": [],
   "source": [
    "pip3 install pandas"
   ]
  },
  {
   "cell_type": "markdown",
   "metadata": {
    "slideshow": {
     "slide_type": "subslide"
    }
   },
   "source": [
    "計算機網路教過   \n",
    "<img src=\"images/http.png\"/>\n",
    "現在我們要做的只是寫成一個 client 來代替瀏覽器   \n",
    "去跟server要求資訊來分析\n"
   ]
  },
  {
   "cell_type": "code",
   "execution_count": null,
   "metadata": {
    "collapsed": true
   },
   "outputs": [],
   "source": []
  },
  {
   "cell_type": "markdown",
   "metadata": {
    "slideshow": {
     "slide_type": "subslide"
    }
   },
   "source": [
    "## 抓取資訊\n",
    "* GET\n",
    "* POST\n",
    "* 下載圖片或檔案\n",
    "\n",
    "## 回傳資訊\n",
    "* html\n",
    "* JSON\n",
    "* xml\n"
   ]
  },
  {
   "cell_type": "markdown",
   "metadata": {
    "slideshow": {
     "slide_type": "slide"
    }
   },
   "source": [
    "# Rqueests\n",
    "[Document](http://docs.python-requests.org/en/latest/)"
   ]
  },
  {
   "cell_type": "code",
   "execution_count": 6,
   "metadata": {
    "collapsed": false
   },
   "outputs": [],
   "source": [
    "import requests"
   ]
  },
  {
   "cell_type": "markdown",
   "metadata": {},
   "source": [
    "## HTTP GET request"
   ]
  },
  {
   "cell_type": "code",
   "execution_count": 7,
   "metadata": {
    "collapsed": false
   },
   "outputs": [
    {
     "name": "stdout",
     "output_type": "stream",
     "text": [
      "<Response [200]>\n"
     ]
    }
   ],
   "source": [
    "response = requests.get(\"http://www.google.com.tw/search\")\n",
    "print(response)"
   ]
  },
  {
   "cell_type": "markdown",
   "metadata": {},
   "source": [
    "* 得到 URL 連結跟 訊息"
   ]
  },
  {
   "cell_type": "code",
   "execution_count": 8,
   "metadata": {
    "collapsed": false
   },
   "outputs": [
    {
     "name": "stdout",
     "output_type": "stream",
     "text": [
      "http://www.google.com.tw/webhp\n",
      "<!doctype html><html itemscope=\"\" itemtype=\"http://schema.org/WebPage\" lang=\"zh-TW\"><head><meta content=\"text/html; charset=UTF-8\" http-equiv=\"Content-Type\"><meta content=\"/images/branding/googleg/1x/googleg_standard_color_128dp.png\" itemprop=\"image\"><title>Google</title><script>(function(){window.google={kEI:'CgxWV_2AJIHY0ATG6J-YBA',kEXPI:'18168,1350654,1350948,3700321,3700389,4029815,4031109,4032677,4036509,4036527,4038012,4039268,4043492,4044838,4045841,4048347,4054551,4057739,4058337,4058544,4059733,4059767,4061155,4061181,4061552,4062333,4062972,4062987,4063126,4063879,4063960,4064449,4064816,4065154,4065284,4065406,4065675,4065787,4065793,4066196,4066654,4066710,4066965,4066973,4067049,4067274,4067342,4067384,4067431,4067518,4067636,4067860,4067896,4068001,4068022,4068550,4068864,4069066,4069435,8300273,8502095,8503585,8504350,8504742,8504931,8505008,8505157,8505164,8505166,10200083,10201913,16200026',authuser:0,kscs:'c9c918f0_24'};google.kHL='zh-TW';})();(function(){google.lc=[];google.li=0;google.getEI=function(a){for(var b;a&&(!a.getAttribute||!(b=a.getAttribute(\"eid\")));)a=a.parentNode;return b||google.kEI};google.getLEI=function(a){for(var b=null;a&&(!a.getAttribute||!(b=a.getAttribute(\"leid\")));)a=a.parentNode;return b};google.https=function(){return\"https:\"==window.location.protocol};google.ml=function(){return null};google.wl=function(a,b){try{google.ml(Error(a),!1,b)}catch(c){}};google.time=function(){return(new Date).getTime()};google.log=function(a,b,c,e,g){a=google.logUrl(a,b,c,e,g);if(\"\"!=a){b=new Image;var d=google.lc,f=google.li;d[f]=b;b.onerror=b.onload=b.onabort=function(){delete d[f]};window.google&&window.google.vel&&window.google.vel.lu&&window.google.vel.lu(a);b.src=a;google.li=f+1}};google.logUrl=function(a,b,c,e,g){var d=\"\",f=google.ls||\"\";if(!c&&-1==b.search(\"&ei=\")){var h=google.getEI(e),d=\"&ei=\"+h;-1==b.search(\"&lei=\")&&((e=google.getLEI(e))?d+=\"&lei=\"+e:h!=google.kEI&&(d+=\"&lei=\"+google.kEI))}a=c||\"/\"+(g||\"gen_204\")+\"?atyp=i&ct=\"+a+\"&cad=\"+b+d+f+\"&zx=\"+google.time();/^http:/i.test(a)&&google.https()&&(google.ml(Error(\"a\"),!1,{src:a,glmm:1}),a=\"\");return a};google.y={};google.x=function(a,b){google.y[a.id]=[a,b];return!1};google.load=function(a,b,c){google.x({id:a+k++},function(){google.load(a,b,c)})};var k=0;})();var _gjwl=location;function _gjuc(){var a=_gjwl.href.indexOf(\"#\");if(0<=a&&(a=_gjwl.href.substring(a),0<a.indexOf(\"&q=\")||0<=a.indexOf(\"#q=\"))&&(a=a.substring(1),-1==a.indexOf(\"#\"))){for(var d=0;d<a.length;){var b=d;\"&\"==a.charAt(b)&&++b;var c=a.indexOf(\"&\",b);-1==c&&(c=a.length);b=a.substring(b,c);if(0==b.indexOf(\"fp=\"))a=a.substring(0,d)+a.substring(c,a.length),c=d;else if(\"cad=h\"==b)return 0;d=c}_gjwl.href=\"/search?\"+a+\"&cad=h\";return 1}return 0}\n",
      "function _gjh(){!_gjuc()&&window.google&&google.x&&google.x({id:\"GJH\"},function(){google.nav&&google.nav.gjh&&google.nav.gjh()})};window._gjh&&_gjh();</script><style>#gbar,#guser{font-size:13px;padding-top:1px !important;}#gbar{height:22px}#guser{padding-bottom:7px !important;text-align:right}.gbh,.gbd{border-top:1px solid #c9d7f1;font-size:1px}.gbh{height:0;position:absolute;top:24px;width:100%}@media all{.gb1{height:22px;margin-right:.5em;vertical-align:top}#gbar{float:left}}a.gb1,a.gb4{text-decoration:underline !important}a.gb1,a.gb4{color:#00c !important}.gbi .gb4{color:#dd8e27 !important}.gbf .gb4{color:#900 !important}\n",
      "</style><style>body,td,a,p,.h{font-family:arial,sans-serif}body{margin:0;overflow-y:scroll}#gog{padding:3px 8px 0}td{line-height:.8em}.gac_m td{line-height:17px}form{margin-bottom:20px}.h{color:#36c}.q{color:#00c}.ts td{padding:0}.ts{border-collapse:collapse}em{color:#c03;font-style:normal;font-weight:normal}a em{text-decoration:underline}.lst{height:25px;width:496px}.gsfi,.lst{font:18px arial,sans-serif}.gsfs{font:17px arial,sans-serif}.ds{display:inline-box;display:inline-block;margin:3px 0 4px;margin-left:4px}input{font-family:inherit}a.gb1,a.gb2,a.gb3,a.gb4{color:#11c !important}body{background:#fff;color:black}a{color:#11c;text-decoration:none}a:hover,a:active{text-decoration:underline}.fl a{color:#36c}a:visited{color:#551a8b}a.gb1,a.gb4{text-decoration:underline}a.gb3:hover{text-decoration:none}#ghead a.gb2:hover{color:#fff !important}.sblc{padding-top:5px}.sblc a{display:block;margin:2px 0;margin-left:13px;font-size:11px}.lsbb{background:#eee;border:solid 1px;border-color:#ccc #999 #999 #ccc;height:30px}.lsbb{display:block}.ftl,#fll a{display:inline-block;margin:0 12px}.lsb{background:url(/images/nav_logo229.png) 0 -261px repeat-x;border:none;color:#000;cursor:pointer;height:30px;margin:0;outline:0;font:15px arial,sans-serif;vertical-align:top}.lsb:active{background:#ccc}.lst:focus{outline:none}</style><script></script><link href=\"/images/branding/product/ico/googleg_lodp.ico\" rel=\"shortcut icon\"></head><body bgcolor=\"#fff\"><script>(function(){var src='/images/nav_logo229.png';var iesg=false;document.body.onload = function(){window.n && window.n();if (document.images){new Image().src=src;}\n",
      "if (!iesg){document.f&&document.f.q.focus();document.gbqf&&document.gbqf.q.focus();}\n",
      "}\n",
      "})();</script><div id=\"mngb\">    <div id=gbar><nobr><b class=gb1>搜尋</b> <a class=gb1 href=\"http://www.google.com.tw/imghp?hl=zh-TW&tab=wi\">圖片</a> <a class=gb1 href=\"http://maps.google.com.tw/maps?hl=zh-TW&tab=wl\">地圖</a> <a class=gb1 href=\"https://play.google.com/?hl=zh-TW&tab=w8\">Play</a> <a class=gb1 href=\"http://www.youtube.com/?gl=TW&tab=w1\">YouTube</a> <a class=gb1 href=\"http://news.google.com.tw/nwshp?hl=zh-TW&tab=wn\">新聞</a> <a class=gb1 href=\"https://mail.google.com/mail/?tab=wm\">Gmail</a> <a class=gb1 href=\"https://drive.google.com/?tab=wo\">雲端硬碟</a> <a class=gb1 style=\"text-decoration:none\" href=\"https://www.google.com.tw/intl/zh-TW/options/\"><u>更多</u> &raquo;</a></nobr></div><div id=guser width=100%><nobr><span id=gbn class=gbi></span><span id=gbf class=gbf></span><span id=gbe></span><a href=\"http://www.google.com.tw/history/optout?hl=zh-TW\" class=gb4>網頁紀錄</a> | <a  href=\"/preferences?hl=zh-TW\" class=gb4>設定</a> | <a target=_top id=gb_70 href=\"https://accounts.google.com/ServiceLogin?hl=zh-TW&passive=true&continue=http://www.google.com.tw/webhp\" class=gb4>登入</a></nobr></div><div class=gbh style=left:0></div><div class=gbh style=right:0></div>    </div><center><br clear=\"all\" id=\"lgpd\"><div id=\"lga\"><div style=\"padding:28px 0 3px\"><div style=\"height:110px;width:276px;background:url(/images/branding/googlelogo/1x/googlelogo_white_background_color_272x92dp.png) no-repeat\" title=\"Google\" align=\"left\" id=\"hplogo\" onload=\"window.lol&&lol()\"><div style=\"color:#777;font-size:16px;font-weight:bold;position:relative;top:70px;left:218px\" nowrap=\"\">台灣</div></div></div><br></div><form action=\"/search\" name=\"f\"><table cellpadding=\"0\" cellspacing=\"0\"><tr valign=\"top\"><td width=\"25%\">&nbsp;</td><td align=\"center\" nowrap=\"\"><input name=\"ie\" value=\"Big5\" type=\"hidden\"><input value=\"zh-TW\" name=\"hl\" type=\"hidden\"><input name=\"source\" type=\"hidden\" value=\"hp\"><input name=\"biw\" type=\"hidden\"><input name=\"bih\" type=\"hidden\"><div class=\"ds\" style=\"height:32px;margin:4px 0\"><input style=\"color:#000;margin:0;padding:5px 8px 0 6px;vertical-align:top\" autocomplete=\"off\" class=\"lst\" value=\"\" title=\"Google 搜尋\" maxlength=\"2048\" name=\"q\" size=\"57\"></div><br style=\"line-height:0\"><span class=\"ds\"><span class=\"lsbb\"><input class=\"lsb\" value=\"Google 搜尋\" name=\"btnG\" type=\"submit\"></span></span><span class=\"ds\"><span class=\"lsbb\"><input class=\"lsb\" value=\"好手氣\" name=\"btnI\" onclick=\"if(this.form.q.value)this.checked=1; else top.location='/doodles/'\" type=\"submit\"></span></span></td><td class=\"fl sblc\" align=\"left\" nowrap=\"\" width=\"25%\"><a href=\"/advanced_search?hl=zh-TW&amp;authuser=0\">進階搜尋</a><a href=\"/language_tools?hl=zh-TW&amp;authuser=0\">語言工具</a></td></tr></table><input id=\"gbv\" name=\"gbv\" type=\"hidden\" value=\"1\"></form><div id=\"gac_scont\"></div><div style=\"font-size:83%;min-height:3.5em\"><br></div><span id=\"footer\"><div style=\"font-size:10pt\"><div style=\"margin:19px auto;text-align:center\" id=\"fll\"><a href=\"/intl/zh-TW/ads/\">廣告服務</a><a href=\"http://www.google.com.tw/intl/zh-TW/services/\">商業解決方案</a><a href=\"/intl/zh-TW/about.html\">Google 完全手冊</a><a href=\"http://www.google.com.tw/setprefdomain?prefdom=US&amp;sig=__mbh5kyijUgkWVWhPcAJv9KLmG4M%3D\" id=\"fehl\">Google.com</a></div></div><p style=\"color:#767676;font-size:8pt\">&copy; 2016 - <a href=\"/intl/zh-TW/policies/privacy/\">隱私權</a> - <a href=\"/intl/zh-TW/policies/terms/\">服務條款</a></p></span></center><script>(function(){window.google.cdo={height:0,width:0};(function(){var a=window.innerWidth,b=window.innerHeight;if(!a||!b)var c=window.document,d=\"CSS1Compat\"==c.compatMode?c.documentElement:c.body,a=d.clientWidth,b=d.clientHeight;a&&b&&(a!=google.cdo.width||b!=google.cdo.height)&&google.log(\"\",\"\",\"/client_204?&atyp=i&biw=\"+a+\"&bih=\"+b+\"&ei=\"+google.kEI);})();})();</script><div id=\"xjsd\"></div><div id=\"xjsi\"><script>(function(){function c(b){window.setTimeout(function(){var a=document.createElement(\"script\");a.src=b;document.getElementById(\"xjsd\").appendChild(a)},0)}google.dljp=function(b,a){google.xjsu=b;c(a)};google.dlj=c;})();(function(){window.google.xjsrm=[];})();if(google.y)google.y.first=[];if(!google.xjs){window._=window._||{};window._._DumpException=function(e){throw e};if(google.timers&&google.timers.load.t){google.timers.load.t.xjsls=new Date().getTime();}google.dljp('/xjs/_/js/k\\x3dxjs.hp.en_US.aTtcG9G1acg.O/m\\x3dsb_he,d/rt\\x3dj/d\\x3d1/t\\x3dzcms/rs\\x3dACT90oEIe7Vx-cniwmkzrUQI_VrII_nUTA','/xjs/_/js/k\\x3dxjs.hp.en_US.aTtcG9G1acg.O/m\\x3dsb_he,d/rt\\x3dj/d\\x3d1/t\\x3dzcms/rs\\x3dACT90oEIe7Vx-cniwmkzrUQI_VrII_nUTA');google.xjs=1;}google.pmc={\"sb_he\":{\"agen\":true,\"cgen\":true,\"client\":\"heirloom-hp\",\"dh\":true,\"dhqt\":true,\"ds\":\"\",\"fl\":true,\"host\":\"google.com.tw\",\"isbh\":28,\"jam\":0,\"jsonp\":true,\"msgs\":{\"cibl\":\"清除搜尋\",\"dym\":\"您是不是要查：\",\"lcky\":\"好手氣\",\"lml\":\"瞭解詳情\",\"oskt\":\"輸入工具\",\"psrc\":\"已從您的「\\u003Ca href=\\\"/history\\\"\\u003E網頁紀錄\\u003C/a\\u003E」中移除這筆搜尋紀錄\",\"psrl\":\"移除\",\"sbit\":\"以圖搜尋\",\"srch\":\"Google 搜尋\"},\"ovr\":{},\"pq\":\"\",\"refpd\":true,\"refspre\":true,\"rfs\":[],\"scd\":10,\"sce\":5,\"stok\":\"dhOIHg9AYjOErltbGVvMPL9rrOo\"},\"d\":{}};google.y.first.push(function(){if(google.med){google.med('init');google.initHistory();google.med('history');}});if(google.j&&google.j.en&&google.j.xi){window.setTimeout(google.j.xi,0);}\n",
      "</script></div></body></html>\n"
     ]
    }
   ],
   "source": [
    "print(response.url)\n",
    "print(response.text)"
   ]
  },
  {
   "cell_type": "markdown",
   "metadata": {},
   "source": [
    "## 送一個有參數的 HTTP GET request"
   ]
  },
  {
   "cell_type": "code",
   "execution_count": 9,
   "metadata": {
    "collapsed": false
   },
   "outputs": [],
   "source": [
    "response = requests.get(\"https://www.google.com.tw/search\", params={\"q\":\"嘉義大學\"})\n"
   ]
  },
  {
   "cell_type": "code",
   "execution_count": 10,
   "metadata": {
    "collapsed": false
   },
   "outputs": [
    {
     "data": {
      "text/plain": [
       "'https://www.google.com.tw/search?q=%E5%98%89%E7%BE%A9%E5%A4%A7%E5%AD%B8'"
      ]
     },
     "execution_count": 10,
     "metadata": {},
     "output_type": "execute_result"
    }
   ],
   "source": [
    "response.url"
   ]
  },
  {
   "cell_type": "code",
   "execution_count": 11,
   "metadata": {
    "collapsed": false
   },
   "outputs": [
    {
     "data": {
      "text/plain": [
       "'<!doctype html><html itemscope=\"\" itemtype=\"http://schema.org/SearchResultsPage\" lang=\"zh-TW\"><head><meta content=\"text/html; charset=UTF-8\" http-equiv=\"Content-Type\"><meta content=\"/images/branding/googleg/1x/googleg_standard_color_128dp.png\" itemprop=\"image\"><link href=\"/images/branding/product/ico/googleg_lodp.ico\" rel=\"shortcut icon\"><title>嘉義大學 - Google 搜尋</title><style>#gbar,#guser{font-size:13px;padding-top:1px !important;}#gbar{height:22px}#guser{padding-bottom:7px !important;text-align:right}.gbh,.gbd{border-top:1px solid #c9d7f1;font-size:1px}.gbh{height:0;position:absolute;top:24px;width:100%}@media all{.gb1{height:22px;margin-right:.5em;vertical-align:top}#gbar{float:left}}a.gb1,a.gb4{text-decoration:underline !important}a.gb1,a.gb4{color:#00c !important}.gbi .gb4{color:#dd8e27 !important}.gbf .gb4{color:#900 !important} </style><style>.star{float:left;margin-top:1px;overflow:hidden}._yhd{font-size:11px}.j{width:34em}#center_col b,#center_col em,#center_col strong,#rhs_block b,#rhs_block em,#rhs_block strong{color:#c03;font-weight:normal}#_AL b{color:#000;font-weight:bold}#center_col a b,#center_col a em,#center_col a strong,#rhs a b,#rhs a em,#rhs a strong{text-decoration:underline}body,td,div,.p,a{font-family:arial,sans-serif;tap-highlight-color:rgba(255,255,255,0)}body{margin:0}a img{border:0}#gbar{float:left;height:22px;padding-left:2px;font-size:13px}.gsfi,.gsfs{font-size:17px}.w,.q:active,.q:visited,.tbotu{color:#11c}a.gl{text-decoration:none}._Umd a:link{color:#0E1CB3}#foot{padding:0 8px}#foot a{white-space:nowrap}h3{font-size:16px;font-weight:normal;margin:0;padding:0}#res h3{display:inline}.hd{height:1px;position:absolute;top:-1000em}.g,body,html,table,.std{font-size:13px}.g{margin-bottom:23px;margin-top:0;zoom:1}ol li,ul li{list-style:none}h1,ol,ul,li{margin:0;padding:0}#mbEnd h2{font-weight:normal}.e{margin:2px 0 0.75em}#leftnav a{text-decoration:none}#leftnav h2{color:#767676;font-weight:normal;margin:0}#nav{border-collapse:collapse;margin-top:17px;text-align:left}#nav td{text-align:center}.nobr{white-space:nowrap}.ts{border-collapse:collapse}.s br{display:none}.csb{display:block;height:40px}.images_table td{line-height:17px;padding-bottom:16px}.images_table img{border:1px solid #ccc;padding:1px}#tbd,#abd{display:block;min-height:1px}#abd{padding-top:3px}#tbd li{display:inline}._ITd,._JTd{margin-bottom:8px}#tbd .tbt li{display:block;font-size:13px;line-height:1.2;padding-bottom:3px;padding-left:8px;text-indent:-8px}.tbos,.b{font-weight:bold}em{font-weight:bold;font-style:normal}.mime{color:#1a0dab;font-weight:bold;font-size:x-small}._lwd{right:-2px !important;overflow:hidden}.soc a{text-decoration:none}.soc{color:#808080}._AC a{text-decoration:none}._AC{color:#808080}._kgd{color:#e7711b}#_vBb{border:1px solid #e0e0e0;margin-left:-8px;margin-right:-8px;padding:15px 20px 5px}._m3b{font-size:32px}._eGc{color:#777;font-size:16px;margin-top:5px}._H0d{color:#777;font-size:14px;margin-top:5px}._HLh{border:1px solid #e0e0e0;padding-left:20px}._Tki{border:1px solid #e0e0e0;padding:5px 20px}#vob{border:1px solid #e0e0e0;padding:15px 15px}#_Nyc{font-size:22px;line-height:22px;padding-bottom:5px}#vob_st{line-height:1.24}._Tsb{border-width:1px;border-style:solid;border-color:#eee;background-color:#fff;position:relative;margin-bottom:26px}._Peb,._Qeb,._Usb{font-family:Arial;font-weight:lighter}._Peb{margin-bottom:5px}._Peb{font-size:xx-large}._Qeb{font-size:medium}._Usb{font-size:small}._Tsb{margin-left:-8px;margin-right:-15px;padding:20px 20px 24px}._rOc{border-spacing:0px 2px}._sOc{max-width:380px;text-overflow:ellipsis;white-space:nowrap;overflow:hidden;padding-left:0px}._v9b{padding-left:15px;white-space:nowrap;color:#666}._pOc{padding-left:0px}._rkc{color:#212121}._HOb{color:#878787}._lMf{color:#093}._jMf{color:#c00}._kMf{padding:1px}._CKg{color:#dd4b39}.gssb_a{padding:0 10px !important}.gssb_c{left:132px !important;right:295px !important;top:78px !important;width:572px !important}.gssb_c table{font-size:16px !important}.gssb_e{border:1px solid #ccc !important;border-top-color:#d9d9d9 !important}.gssb_i{background:#eee !important}#res{padding:0 8px}#rhs_block{padding-top:43px}#_FQd{padding:0 8px}#subform_ctrl{font-size:11px;height:17px;margin:5px 3px 0 17px}.taf{padding-bottom:3px}._chd{padding:20px 0 3px}._bhd{padding:20px 0 3px}#topstuff .e{padding-bottom:6px}.slk .sld{width:250px}.slk{margin-bottom:-3px}.slk ._z3b{padding-bottom:5px;width:250px}._QPd{margin-top:1px;margin-bottom:-11px}._zuc{color:#545454}._Auc{padding-top:2px;padding-bottom:1px}._Buc{padding-top:1px;margin-bottom:14px}.ac,.st{line-height:1.24}.mfr,#ofr{font-size:16px;margin:1em 0;padding:0 8px}._tLi{padding-bottom:25px}.s{color:#545454}.ac,._JEe{color:#545454}a.fl,._cD a,.osl a{color:#1a0dab;text-decoration:none}a:link{color:#1a0dab;cursor:pointer}#tads a:link{color:#1a0dab}#tads .soc a:link{color:#808080}#tads ._AC a:link{color:#808080}._AC a:link{color:#808080}._AC a:visited{color:#808080}._AC a:hover{color:#808080;text-decoration:underline}a:visited{color:#61C}.blg a{text-decoration:none}cite,cite a:link{color:#006621;font-style:normal}#tads cite{color:#006621}.kv{font-size:15px}.kvs{margin-top:1px}.kv,.kvs,.slp{display:block;margin-bottom:1px}.kt{border-spacing:2px 0;margin-top:1px}#mbEnd li{margin:20px 8px 0 0}.f{color:#808080}._pJb{color:#093}h4.r{display:inline;font-size:small;font-weight:normal}.g{line-height:1.2}._sPb{display:inline-block;vertical-align:top;overflow:hidden;position:relative}._Gnc{margin:0 0 2em 1.3em}._Gnc li{list-style-type:disc}.osl{color:#777;margin-top:4px}.r{font-size:16px;margin:0}.spell{font-size:16px}.spell_orig{font-size:13px}.spell_orig a{text-decoration:none}.spell_orig b i{font-style:normal;font-weight:normal}.th{border:1px solid #ebebeb}.ts td{padding:0}.videobox{padding-bottom:3px}.slk a{text-decoration:none}#leftnav a:hover,#leftnav .tbou a:hover,.slk h3 a,a:hover{text-decoration:underline}#mn{table-layout:fixed;width:100%}#leftnav a{color:#222;font-size:13px}#leftnav{padding:43px 4px 4px 0}.tbos{color:#dd4b39}._AEd{border-top:1px solid #efefef;font-size:13px;margin:10px 0 14px 10px;padding:0}.tbt{margin-bottom:28px}#tbd{padding:0 0 0 16px}.tbou a{color:#222}#center_col{border:0;padding:0 8px 0 0}#topstuff .e{padding-top:3px}#topstuff .sp_cnt{padding-top:6px}#ab_name{color:#dd4b39;font:20px \"Arial\";margin-left:15px}._fld{border-bottom:1px solid #dedede;height:56px;padding-top:1px}#resultStats{color:#999;font-size:13px;overflow:hidden;white-space:nowrap}.mslg>td{padding-right:1px;padding-top:2px}.slk .sld{margin-top:2px;padding:5px 0 5px 5px}._Mvd,.fmp{padding-top:3px}.close_btn{overflow:hidden}#fll a,#bfl a{color:#1a0dab !important;margin:0 12px;text-decoration:none !important}.ng{color:#dd4b39}#mss{margin:.33em 0 0;padding:0;display:table}._mY{display:inline-block;float:left;white-space:nowrap;padding-right:16px}#mss p{margin:0;padding-top:5px}.tn{border-bottom:1px solid #ebebeb;display:block;float:left;height:59px;line-height:54px;min-width:980px;padding:0;position:relative;white-space:nowrap}._UXb,a._UXb{color:#777;cursor:pointer;display:inline-block;font-family:arial,sans-serif;font-size:small;height:54px;line-height:54px;margin:0 8px;padding:0 8px;text-decoration:none;white-space:nowrap}._Ihd{border-bottom:3px solid #dd4b39;color:#dd4b39;font-weight:bold;margin:2px 8px 0}a._Jhd:hover{color:black;text-decoration:none;white-space:nowrap}body{margin:0;padding:0}._sxc{display:inline-block;float:left;margin-top:2px}._Hhd,a._Hhd{margin-left:1px}.sd{line-height:43px;padding:0 8px 0 9px}a:active,.osl a:active,.tbou a:active,#leftnav a:active{color:#dd4b39}#_Xud a:active,#bfl a:active{color:#dd4b39 !important}.csb{background:url(/images/nav_logo229.png) no-repeat;overflow:hidden}.close_btn{background:url(/images/nav_logo229.png) no-repeat -138px -84px;height:14px;width:14px;display:block}.star{background:url(/images/nav_logo229.png) no-repeat -94px -245px;height:13px;width:65px;display:block}.star div,.star span{background:url(/images/nav_logo229.png) no-repeat 0 -245px;height:13px;width:65px;display:block}._nBb{display:inline;margin:0 3px;outline-color:transparent;overflow:hidden;position:relative}._nBb>div{outline-color:transparent}._O0{border-color:transparent;border-style:solid dashed dashed;border-top-color:green;border-width:4px 4px 0 4px;cursor:pointer;display:inline-block;font-size:0;height:0;left:4px;line-height:0;outline-color:transparent;position:relative;top:-3px;width:0}._O0{margin-top:-4px}.am-dropdown-menu{display:block;background:#fff;border:1px solid #dcdcdc;font-size:13px;left:0;padding:0;position:absolute;right:auto;white-space:nowrap;z-index:3}._Ykb{list-style:none;white-space:nowrap}._Ykb:hover{background-color:#eee}a._Zkb{color:#333;cursor:pointer;display:block;padding:7px 18px;text-decoration:none}#tads a._Zkb{color:#333}.sfbgg{background:#f1f1f1;border-bottom:1px solid #e5e5e5;height:71px}#logocont{z-index:1;padding-left:4px;padding-top:4px}#logo{display:block;height:49px;margin-top:12px;margin-left:12px;overflow:hidden;position:relative;width:137px}#logo img{left:0;position:absolute;top:-41px}.lst-a{background:white;border:1px solid #d9d9d9;border-top-color:silver;width:570px}.lst-a:hover{border:1px solid #b9b9b9;border-top:1px solid #a0a0a0;box-shadow:inset 0 1px 2px rgba(0,0,0,0.1);-webkit-box-shadow:inset 0 1px 2px rgba(0,0,0,0.1);-moz-box-shadow:inset 0 1px 2px rgba(0,0,0,0.1)}.lst-td{border:none;padding:0}.tia input{border-right:none;padding-right:0}.tia{padding-right:0}.lst{background:none;border:none;color:#000;font:16px arial,sans-serif;float:left;height:22px;margin:0;padding:3px 6px 2px 9px;vertical-align:top;width:100%;word-break:break-all}.lst:focus{outline:none}.lst-b{background:none;border:none;height:26px;padding:0 6px 0 12px}.ds{border-right:1px solid #e7e7e7;position:relative;height:29px;margin-left:17px;z-index:100}.lsbb{background-image:-moz-linear-gradient(top,#4d90fe,#4787ed);background-image:-ms-linear-gradient(top,#4d90fe,#4787ed);background-image:-o-linear-gradient(top,#4d90fe,#4787ed);background-image:-webkit-gradient(linear,left top,left bottom,from(#4d90fe),to(#4787ed));background-image:-webkit-linear-gradient(top,#4d90fe,#4787ed);background-image:linear-gradient(top,#4d90fe,#4787ed);border:1px solid #3079ed;border-radius:2px;background-color:#4d90fe;height:27px;width:68px}.lsbb:hover{background-image:-moz-linear-gradient(top,#4d90fe,#357ae8);background-image:-ms-linear-gradient(top,#4d90fe,#357ae8);background-image:-o-linear-gradient(top,#4d90fe,#357ae8);background-image:-webkit-gradient(linear,left top,left bottom,from(#4d90fe),to(#357ae8));background-image:-webkit-linear-gradient(top,#4d90fe,#357ae8);background-color:#357ae8;background-image:linear-gradient(top,#4d90fe,#357ae8);border:1px solid #2f5bb7}.lsb{background:transparent;background-position:0 -343px;background-repeat:repeat-x;border:none;color:#000;cursor:default;font:15px arial,sans-serif;height:29px;margin:0;vertical-align:top;width:100%}.lsb:active{-moz-box-shadow:inset 0 1px 2px rgba(0,0,0,0.3);-webkit-box-shadow:inset 0 1px 2px rgba(0,0,0,0.3);box-shadow:inset 0 1px 2px rgba(0,0,0,0.3);background:transparent;color:transparent;overflow:hidden;position:relative;width:100%}.sbico{color:transparent;display:inline-block;height:15px;margin:0 auto;margin-top:2px;width:15px;overflow:hidden}</style><script>(function(){window.google={kEI:\\'CgxWV_jRM8S80ASr7LSgAw\\',kEXPI:\\'1350654,1350948,3700318,3700389,4017607,4019511,4028875,4029815,4031109,4032678,4036509,4036527,4038012,4039268,4043492,4045841,4048347,4054552,4054590,4057739,4058337,4059767,4061154,4061181,4061552,4062333,4062972,4062982,4062987,4063126,4063132,4063465,4063879,4063960,4064449,4064461,4064462,4064931,4065084,4065154,4065406,4065675,4065787,4065793,4065918,4066102,4066195,4066341,4066654,4066709,4066965,4066973,4067274,4067384,4067518,4067799,4067848,4067860,4067938,4068022,4068186,4068550,4068560,4068866,4069041,4069066,8300095,8300273,8502094,8503209,8503585,8504111,8504350,8504742,8504856,8505157,8505164,8505166,10200083\\',authuser:0,kscs:\\'c9c918f0_24\\'};google.kHL=\\'zh-TW\\';})();(function(){google.lc=[];google.li=0;google.getEI=function(a){for(var b;a&&(!a.getAttribute||!(b=a.getAttribute(\"eid\")));)a=a.parentNode;return b||google.kEI};google.getLEI=function(a){for(var b=null;a&&(!a.getAttribute||!(b=a.getAttribute(\"leid\")));)a=a.parentNode;return b};google.https=function(){return\"https:\"==window.location.protocol};google.ml=function(){return null};google.wl=function(a,b){try{google.ml(Error(a),!1,b)}catch(c){}};google.time=function(){return(new Date).getTime()};google.log=function(a,b,c,e,g){a=google.logUrl(a,b,c,e,g);if(\"\"!=a){b=new Image;var d=google.lc,f=google.li;d[f]=b;b.onerror=b.onload=b.onabort=function(){delete d[f]};window.google&&window.google.vel&&window.google.vel.lu&&window.google.vel.lu(a);b.src=a;google.li=f+1}};google.logUrl=function(a,b,c,e,g){var d=\"\",f=google.ls||\"\";if(!c&&-1==b.search(\"&ei=\")){var h=google.getEI(e),d=\"&ei=\"+h;-1==b.search(\"&lei=\")&&((e=google.getLEI(e))?d+=\"&lei=\"+e:h!=google.kEI&&(d+=\"&lei=\"+google.kEI))}a=c||\"/\"+(g||\"gen_204\")+\"?atyp=i&ct=\"+a+\"&cad=\"+b+d+f+\"&zx=\"+google.time();/^http:/i.test(a)&&google.https()&&(google.ml(Error(\"a\"),!1,{src:a,glmm:1}),a=\"\");return a};google.y={};google.x=function(a,b){google.y[a.id]=[a,b];return!1};google.load=function(a,b,c){google.x({id:a+k++},function(){google.load(a,b,c)})};var k=0;})();(function(){var b=[function(){google.c&&google.tick(\"load\",\"dcl\")}];google.dcl=!1;google.dclc=function(a){google.dcl?a():b.push(a)};function c(){if(!google.dcl){google.dcl=!0;for(var a;a=b.shift();)a()}}window.addEventListener?(document.addEventListener(\"DOMContentLoaded\",c,!1),window.addEventListener(\"load\",c,!1)):window.attachEvent&&window.attachEvent(\"onload\",c);})();</script><script type=\"text/javascript\"></script><script>(function(){var a=function(f){for(var g=f.parentElement,d=null,e=0;e<g.childNodes.length;e++){var h=g.childNodes[e];-1<(\" \"+h.className+\" \").indexOf(\" am-dropdown-menu \")&&(d=h)}\"none\"==d.style.display?(d.style.display=\"\",google.log(\"hpam\",\"&ved=\"+f.getAttribute(\"data-ved\"))):d.style.display=\"none\"},b=[\"google\",\"sham\"],c=this;b[0]in c||!c.execScript||c.execScript(\"var \"+b[0]);for(var k;b.length&&(k=b.shift());)b.length||void 0===a?c[k]?c=c[k]:c=c[k]={}:c[k]=a;}).call(window);</script></head><body class=\"hsrp\" bgcolor=\"#ffffff\" marginheight=\"0\" marginwidth=\"0\" topmargin=\"0\"><div id=gbar><nobr><b class=gb1>搜尋</b> <a class=gb1 href=\"https://www.google.com.tw/search?q=%E5%98%89%E7%BE%A9%E5%A4%A7%E5%AD%B8&um=1&ie=UTF-8&hl=zh-TW&tbm=isch&source=og&sa=N&tab=wi\">圖片</a> <a class=gb1 href=\"https://maps.google.com.tw/maps?q=%E5%98%89%E7%BE%A9%E5%A4%A7%E5%AD%B8&um=1&ie=UTF-8&hl=zh-TW&sa=N&tab=wl\">地圖</a> <a class=gb1 href=\"https://play.google.com/?q=%E5%98%89%E7%BE%A9%E5%A4%A7%E5%AD%B8&um=1&ie=UTF-8&hl=zh-TW&sa=N&tab=w8\">Play</a> <a class=gb1 href=\"https://www.youtube.com/results?q=%E5%98%89%E7%BE%A9%E5%A4%A7%E5%AD%B8&um=1&ie=UTF-8&gl=TW&sa=N&tab=w1\">YouTube</a> <a class=gb1 href=\"https://news.google.com.tw/nwshp?hl=zh-TW&tab=wn\">新聞</a> <a class=gb1 href=\"https://mail.google.com/mail/?tab=wm\">Gmail</a> <a class=gb1 href=\"https://drive.google.com/?tab=wo\">雲端硬碟</a> <a class=gb1 style=\"text-decoration:none\" href=\"https://www.google.com.tw/intl/zh-TW/options/\"><u>更多</u> &raquo;</a></nobr></div><div id=guser width=100%><nobr><span id=gbn class=gbi></span><span id=gbf class=gbf></span><span id=gbe></span><a href=\"http://www.google.com.tw/history/optout?hl=zh-TW\" class=gb4>網頁紀錄</a> | <a  href=\"/preferences?hl=zh-TW\" class=gb4>設定</a> | <a target=_top id=gb_70 href=\"https://accounts.google.com/ServiceLogin?hl=zh-TW&passive=true&continue=https://www.google.com.tw/search%3Fq%3D%25E5%2598%2589%25E7%25BE%25A9%25E5%25A4%25A7%25E5%25AD%25B8\" class=gb4>登入</a></nobr></div><div class=gbh style=left:0></div><div class=gbh style=right:0></div><table id=\"mn\" border=\"0\" cellpadding=\"0\" cellspacing=\"0\" style=\"position:relative\"><tr><th width=\"132\"></th><th width=\"573\"></th><th width=\"278\"></th><th></th></tr><tr><td class=\"sfbgg\" valign=\"top\"><div id=\"logocont\"><h1><a href=\"/webhp?hl=zh-TW\" style=\"background:url(/images/nav_logo229.png) no-repeat 0 -41px;height:37px;width:95px;display:block\" id=\"logo\" title=\"Go to Google Home\"></a></h1></div></td><td class=\"sfbgg\" colspan=\"2\" valign=\"top\" style=\"padding-left:0px\"><form style=\"display:block;margin:0;background:none\" action=\"/search\" id=\"tsf\" method=\"GET\" name=\"gs\"><table border=\"0\" cellpadding=\"0\" cellspacing=\"0\" style=\"margin-top:20px;position:relative\"><tr><td><div class=\"lst-a\"><table cellpadding=\"0\" cellspacing=\"0\"><tr><td class=\"lst-td\" width=\"555\" valign=\"bottom\"><div style=\"position:relative;zoom:1\"><input class=\"lst\" value=\"嘉義大學\" title=\"搜尋\" autocomplete=\"off\" id=\"sbhost\" maxlength=\"2048\" name=\"q\" type=\"text\"></div></td></tr></table></div></td><td><div class=\"ds\"><div class=\"lsbb\"><button class=\"lsb\" value=\"搜尋\" name=\"btnG\" type=\"submit\"><span class=\"sbico\" style=\"background:url(/images/nav_logo229.png) no-repeat -36px -111px;height:14px;width:13px;display:block\"></span></button></div></div></td></tr></table></form></td><td class=\"sfbgg\">&nbsp;</td></tr><tr style=\"position:relative\"><td><div style=\"border-bottom:1px solid #ebebeb;height:59px\"></div></td><td colspan=\"2\"><div class=\"tn\"><div class=\"_UXb _Ihd _sxc _Hhd\">全部</div><div class=\"_sxc\"><a class=\"_UXb _Jhd\" href=\"/search?q=%E5%98%89%E7%BE%A9%E5%A4%A7%E5%AD%B8&amp;ie=UTF-8&amp;prmd=ivns&amp;source=lnms&amp;tbm=isch&amp;sa=X&amp;ved=0ahUKEwj4_oHKy5TNAhVEHpQKHSs2DTQQ_AUIBQ\">圖片</a></div><div class=\"_sxc\"><a class=\"_UXb _Jhd\" href=\"/search?q=%E5%98%89%E7%BE%A9%E5%A4%A7%E5%AD%B8&amp;ie=UTF-8&amp;prmd=ivns&amp;source=lnms&amp;tbm=vid&amp;sa=X&amp;ved=0ahUKEwj4_oHKy5TNAhVEHpQKHSs2DTQQ_AUIBg\">影片</a></div><div class=\"_sxc\"><a class=\"_UXb _Jhd\" href=\"/search?q=%E5%98%89%E7%BE%A9%E5%A4%A7%E5%AD%B8&amp;ie=UTF-8&amp;prmd=ivns&amp;source=lnms&amp;tbm=nws&amp;sa=X&amp;ved=0ahUKEwj4_oHKy5TNAhVEHpQKHSs2DTQQ_AUIBw\">新聞</a></div><div class=\"_sxc\"><a class=\"_UXb _Jhd\" href=\"https://maps.google.com.tw/maps?q=%E5%98%89%E7%BE%A9%E5%A4%A7%E5%AD%B8&amp;um=1&amp;ie=UTF-8&amp;sa=X&amp;ved=0ahUKEwj4_oHKy5TNAhVEHpQKHSs2DTQQ_AUICA\">地圖</a></div><div class=\"_sxc\"><a class=\"_UXb _Jhd\" href=\"/search?q=%E5%98%89%E7%BE%A9%E5%A4%A7%E5%AD%B8&amp;ie=UTF-8&amp;prmd=ivns&amp;source=lnms&amp;tbm=bks&amp;sa=X&amp;ved=0ahUKEwj4_oHKy5TNAhVEHpQKHSs2DTQQ_AUICQ\">書籍</a></div></div><div style=\"border-bottom:1px solid #ebebeb;height:59px\"></div></td><td><div style=\"border-bottom:1px solid #ebebeb;height:59px\"></div></td></tr><tbody data-jibp=\"h\" data-jiis=\"uc\" id=\"desktop-search\"><style>._Bu,._Bu a:link,._Bu a:visited,a._Bu:link,a._Bu:visited{color:#808080}._kBb{color:#61C}.ellip{overflow:hidden;text-overflow:ellipsis;white-space:nowrap}.rllt__wrapped,.rllt__wrap-on-expand{}.rllt__wrapped,.rllt__details .rllt__wrapped,.rllt__details .rllt__wrapped div{white-space:normal}.rl-qs-crs-t .rllt__details .rllt__wrap-on-expand{white-space:nowrap}.rllt__details .rllt__wrap-on-expand{white-space:normal}.rllt__details .rllt__wrap-on-expand div{white-space:inherit;overflow:inherit;text-overflow:inherit}._uee{color:rgba(0,0,0,.87);font-size:16px;line-height:18px}._WQf{display:inline-block;float:none;vertical-align:-1px;}._PXi{color:#e7711b;}._xnk{display:flex;margin-right:-8px}._Clk{flex-basis:0;flex-grow:1}._Clk>div{padding-bottom:2px}._ynk{display:flex;justify-content:flex-end;padding-top:14px;padding-left:4px;text-decoration:line-through}.rl-qs-crs-t .rllt__multi-line>:not(:first-child){display:none}.rl-qs-crs-t .rllt__initially-hidden{display:none}._s3j{background:url(data:image/png;base64,iVBORw0KGgoAAAANSUhEUgAAABIAAAASCAYAAABWzo5XAAABF0lEQVR4AbXUv0pDMRSA8SCCXVxsbgtOgjgorYt/RhVdfICW+xqCQ1vwGRQdSyndXX0Fn0Ph3joI7re5SPyGDIfLCRmkgd+S4SOBnJi1r93t1ww5JkEOC6PRNrtYoIZvcJijkwr18QUf8YYKS/RioW4i8o2dEChQItNCi0jgDpchIk9eYdYMZagjoQsYxRMcrAzl8PgRgQfcoxUJncJjKEMTeBzgEx6bDRuNUAseYy20hT0Rk1Y4VEIj7WonMIjFrkToDB4DGbJweIQJbpXQDUzwAoc2QgiYo0IfBvv4VWIlcqww1d5RB0sUOIbBNT7gFQWsDEk9lKjwjHO8RyJHqaHNMIOLDO0UNjW0ksUQY4wwQDv9jfzTHw9ObIOygZGIAAAAAElFTkSuQmCC)}._shj{display:inline-block;height:18px;width:18px}._chj,._chj:link,._chj:visited{color:#1a0dab;display:table-cell;font-size:11px;line-height:20px;text-align:center;text-decoration:none;text-transform:uppercase;vertical-align:middle;width:54px}._chj:last-child{width:94px}._ehj{background:url(data:image/png;base64,iVBORw0KGgoAAAANSUhEUgAAABIAAAASCAYAAABWzo5XAAAAo0lEQVR4Ab3QsQkCQRBG4cXcBixDLMBD5OKLrp3FPrQBE0uwFCuwADlYR5jgBbP/IIgLL5hgPtgpf3ub9XX0iopD1Gwt3pxDGmmexHKECewb5KmwDGEn69LDFHK2KtpbqxADNBLxSqedtQA7EjpYrwCqmKu1xa2a7wyEPk3EAugWIBO/1sPu1gOLDAgggWlEQ8Q0IiGBEdGQwCQiITR4JYd+0BvuMFzaJGna7AAAAABJRU5ErkJggg==)}._HZj{text-align:center;width:54px}._IZj{width:94px;}._axi,._axi:hover,._axi:link,._axi:visited{color:#757575;font-size:14px;text-decoration:none}#rcnt a._axi,#rcnt a._axi:hover,#rcnt a._axi:link,#rcnt a._axi:visited{text-decoration:none}._Fxi{border-bottom:1px solid #ebebeb;padding:11px 0 11px 16px;text-align:left}._Fxi:last-child{border:none}._CXi{border-collapse:collapse;table-layout:fixed;width:100%}._CXi td{padding:0}._PZj{padding-right:16px}._Tbj,._Sbj{color:#1a0dab;display:block;padding:14px 16px}._Tbj,._Sbj{font-size:16px}._Tbj:hover,._Sbj:hover{text-decoration:underline}._Arj{border:1px solid #ebebeb;overflow:hidden}._Pce{margin:4px 10px}#_Oce{border:1px solid #e0e0e0;font-size:13px;margin-right:-2px;}._B5d{border-top:1px solid #e0e0e0;color:#000;font-size:22px;margin-top:-5px;padding-top:10px}._C5d{color:#000;font-size:14px}._Vbe{color:#000}._R4d{border-spacing:0;line-height:20px;table-layout:fixed;width:100%}._R4d a:hover,._R4d a:active{text-decoration:none}._fce{color:#1a0dab}a:hover ._fce,a:active ._fce{text-decoration:underline}._S4d{border-top:1px solid #e0e0e0;margin:0 -10px;padding:0 10px}._T4d{display:block;margin:auto}._P4d{padding-top:8px;padding-bottom:8px}._Qbe{max-width:198px;overflow:hidden;text-overflow:ellipsis;white-space:nowrap}._tA{color:#777}</style><tr><td id=\"leftnav\" valign=\"top\"><div><h2 class=\"hd\">Search Options</h2><ul class=\"med\" id=\"tbd\"><li><ul class=\"tbt\"><li class=\"tbos\" id=\"lr_\">不限國家/地區</li><li class=\"tbou\" id=\"ctr_countryTW\"><a class=\"q\" href=\"/search?q=%E5%98%89%E7%BE%A9%E5%A4%A7%E5%AD%B8&amp;ie=UTF-8&amp;prmd=ivns&amp;source=lnt&amp;tbs=ctr:countryTW&amp;cr=countryTW&amp;sa=X&amp;ved=0ahUKEwj4_oHKy5TNAhVEHpQKHSs2DTQQpwUIDg\">國家/地區：台灣</a></li></ul></li><li><ul class=\"tbt\"><li class=\"tbos\" id=\"lr_\">不限語言</li><li class=\"tbou\" id=\"lr_lang_1zh-CN|lang_1zh-TW\"><a class=\"q\" href=\"/search?q=%E5%98%89%E7%BE%A9%E5%A4%A7%E5%AD%B8&amp;ie=UTF-8&amp;prmd=ivns&amp;source=lnt&amp;tbs=lr:lang_1zh-CN%7Clang_1zh-TW&amp;lr=lang_zh-CN%7Clang_zh-TW&amp;sa=X&amp;ved=0ahUKEwj4_oHKy5TNAhVEHpQKHSs2DTQQpwUIDg\">所有中文網頁</a></li><li class=\"tbou\" id=\"lr_lang_1zh-TW\"><a class=\"q\" href=\"/search?q=%E5%98%89%E7%BE%A9%E5%A4%A7%E5%AD%B8&amp;ie=UTF-8&amp;prmd=ivns&amp;source=lnt&amp;tbs=lr:lang_1zh-TW&amp;lr=lang_zh-TW&amp;sa=X&amp;ved=0ahUKEwj4_oHKy5TNAhVEHpQKHSs2DTQQpwUIDg\">繁體中文網頁</a></li></ul></li><li><ul class=\"tbt\"><li class=\"tbos\" id=\"qdr_\">不限時間</li><li class=\"tbou\" id=\"qdr_h\"><a class=\"q\" href=\"/search?q=%E5%98%89%E7%BE%A9%E5%A4%A7%E5%AD%B8&amp;ie=UTF-8&amp;prmd=ivns&amp;source=lnt&amp;tbs=qdr:h&amp;sa=X&amp;ved=0ahUKEwj4_oHKy5TNAhVEHpQKHSs2DTQQpwUIDg\"> 過去 1 小時</a></li><li class=\"tbou\" id=\"qdr_d\"><a class=\"q\" href=\"/search?q=%E5%98%89%E7%BE%A9%E5%A4%A7%E5%AD%B8&amp;ie=UTF-8&amp;prmd=ivns&amp;source=lnt&amp;tbs=qdr:d&amp;sa=X&amp;ved=0ahUKEwj4_oHKy5TNAhVEHpQKHSs2DTQQpwUIDg\"> 過去 24 小時</a></li><li class=\"tbou\" id=\"qdr_w\"><a class=\"q\" href=\"/search?q=%E5%98%89%E7%BE%A9%E5%A4%A7%E5%AD%B8&amp;ie=UTF-8&amp;prmd=ivns&amp;source=lnt&amp;tbs=qdr:w&amp;sa=X&amp;ved=0ahUKEwj4_oHKy5TNAhVEHpQKHSs2DTQQpwUIDg\"> 過去 1 週</a></li><li class=\"tbou\" id=\"qdr_m\"><a class=\"q\" href=\"/search?q=%E5%98%89%E7%BE%A9%E5%A4%A7%E5%AD%B8&amp;ie=UTF-8&amp;prmd=ivns&amp;source=lnt&amp;tbs=qdr:m&amp;sa=X&amp;ved=0ahUKEwj4_oHKy5TNAhVEHpQKHSs2DTQQpwUIDg\"> 過去 1 個月</a></li><li class=\"tbou\" id=\"qdr_y\"><a class=\"q\" href=\"/search?q=%E5%98%89%E7%BE%A9%E5%A4%A7%E5%AD%B8&amp;ie=UTF-8&amp;prmd=ivns&amp;source=lnt&amp;tbs=qdr:y&amp;sa=X&amp;ved=0ahUKEwj4_oHKy5TNAhVEHpQKHSs2DTQQpwUIDg\"> 過去 1 年</a></li></ul></li><li><ul class=\"tbt\"><li class=\"tbos\" id=\"li_\">所有結果</li><li class=\"tbou\" id=\"li_1\"><a class=\"q\" href=\"/search?q=%E5%98%89%E7%BE%A9%E5%A4%A7%E5%AD%B8&amp;ie=UTF-8&amp;prmd=ivns&amp;source=lnt&amp;tbs=li:1&amp;sa=X&amp;ved=0ahUKEwj4_oHKy5TNAhVEHpQKHSs2DTQQpwUIDg\">一字不差</a></li></ul></li></ul></div></td><td valign=\"top\"><div id=\"center_col\"><div class=\"sd\" id=\"resultStats\">約有 1,970,000 項結果</div><div id=\"res\"><div id=\"topstuff\"></div><div id=\"search\"><div id=\"ires\"><ol><div class=\"g _Arj\"><a href=\"https://maps.google.com.tw/maps?um=1&amp;ie=UTF-8&amp;fb=1&amp;gl=tw&amp;sa=X&amp;sll=23.4760232,120.4639202&amp;sspn=0.0302313,0.0439465&amp;q=%E5%98%89%E7%BE%A9%E5%A4%A7%E5%AD%B8&amp;ved=0ahUKEwj4_oHKy5TNAhVEHpQKHSs2DTQQtgMIFw\" tabindex=\"0\" style=\"position:relative;height:200px;display:block\"><img height=\"200\" id=\"lu_map\" src=\"/maps/vt/data=RfCSdfNZ0LFPrHSm0ublXdzhdrDFhtmHhN1u-gM,X4IhmNm-FM6PU6cfwoTKqGN0tSmB_sSf6egDKRT83a8hQO7lDWzgRvJn3-avu1Up8SRx-aTbHTMxszKdVwV-4WwMLe3Aixk--EuRfdRtO_TYOrfszVwvOLv_MT0KhHFYpQ7m4uJRZlk2L_Dysz4flAMEU7jF2N_4ax81TYeZEA7BSjJMOo6vpg2jPYsBfPSC7A024C3gRB4cIAOLs3m3QtWOHmmw3gIvXsR0rQ0OvuUwsh8F6jVt4qixvwCnJpIbVHvQL27MtVXS_YkUxIXN3AwUktCoKEUbbnB2YLaKM5W_87zkIcCUKh2YhUleij8qqZkqrLFQ6OTbFFL_FeUzc7N7Qxxh5zTTDgBeBsg7WH1zifPREPuy1zQ7JXQ9oeijsCe2iNoF1a5hxcuOFI3RgUlbTSMGjLJqmq8wqb3ttemnS6Nfz3CiZ1lpMp9k9yAD9V2KZrCIx71YCCZXFkHk28_BuWOt0DJrFF_OFThUqXDhPV9niOWBAuxg2SsEwRD2pBe5Gs7xJl0lG9tHeXgOCoYR0QiO66iL-6nMHLY4xc_1eoG29l8NxD-EyhA190oEuBfxDBOsREpEclcnq4btnfXZRQxmrnmfp3nPQ_YVpow6zeQ9qDunRslvSG_nXDgMz5P5fKwOOgdSxHhBvy_WMtrlSFQXIwAwaQMfiB4_wHfzTrt5tAHH0uxd--kScDqa2RSQI06-Mx7q8LAI59L7VGDdUI3suiTDZH4geZSbNaxXpremGhBg78TlHgJuoFx_MtgFO84\" width=\"547\" title=\"嘉義大學地圖\" alt=\"嘉義大學地圖\" border=\"0\"></a><div class=\"_Fxi\"><table class=\"_CXi\"><td><a class=\"_axi\" href=\"/search?ie=UTF-8&amp;q=%E5%9C%8B%E7%AB%8B%E5%98%89%E7%BE%A9%E5%A4%A7%E5%AD%B8%E6%9E%97%E6%A3%AE%E6%A0%A1%E5%8D%80+%E5%98%89%E7%BE%A9%E5%B8%82%E6%9D%B1%E5%8D%80&amp;ludocid=1313344494444629931&amp;sa=X&amp;ved=0ahUKEwj4_oHKy5TNAhVEHpQKHSs2DTQQvS4IGjAA\"><div class=\"_uee rllt__wrap-on-expand\" aria-level=\"3\" role=\"heading\">國立嘉義大學林森校區</div><div><span class=\"_PXi\">4.1</span> <g-review-stars><div class=\"_WQf star\"><div style=\"width:52px\">&nbsp;</div></div></g-review-stars> (16) &middot; 大學</div><div></div><div><span>林森東路151號</span> &middot; 05 271 7000</div></a></td><td class=\"_HZj\"><a href=\"/url?q=http://www.ncyu.edu.tw/&amp;sa=U&amp;ved=0ahUKEwj4_oHKy5TNAhVEHpQKHSs2DTQQgU8IHzAA&amp;usg=AFQjCNFKKxsZ-SYyigMjHba_tMdtI7gvJQ\" class=\"_chj\"><div class=\"_shj _s3j\"></div><div>網站</div></a></td><td class=\"_HZj _IZj\"><a href=\"https://maps.google.com.tw/maps?um=1&amp;ie=UTF-8&amp;fb=1&amp;gl=tw&amp;sa=X&amp;geocode=KTnTpI21lW40MatPFvvb7zkS&amp;daddr=600%E5%98%89%E7%BE%A9%E5%B8%82%E6%9D%B1%E5%8D%80%E6%9E%97%E6%A3%AE%E6%9D%B1%E8%B7%AF151%E8%99%9F\" onclick=\"ctc(this, \\'/gen_204?sa=X\\', this.href);return false;\" class=\"_chj\" data-ved=\"0ahUKEwj4_oHKy5TNAhVEHpQKHSs2DTQQlDsIIDAA\"><div class=\"_shj _ehj\"></div><div>行車路線</div></a></td></table></div><div class=\"_Fxi\"><table class=\"_CXi\"><td><a class=\"_axi\" href=\"/search?ie=UTF-8&amp;q=%E5%9C%8B%E7%AB%8B%E5%98%89%E7%BE%A9%E5%A4%A7%E5%AD%B8+%E5%98%89%E7%BE%A9%E5%B8%82%E6%9D%B1%E5%8D%80%E9%B9%BF%E5%AF%AE%E9%87%8C&amp;ludocid=10054523198283599224&amp;sa=X&amp;ved=0ahUKEwj4_oHKy5TNAhVEHpQKHSs2DTQQvS4IIjAB\"><div class=\"_uee rllt__wrap-on-expand\" aria-level=\"3\" role=\"heading\">國立嘉義大學</div><div><span class=\"_PXi\">4.2</span> <g-review-stars><div class=\"_WQf star\"><div style=\"width:52px\">&nbsp;</div></div></g-review-stars> (89) &middot; 大學</div><div></div><div><span>學府路300號</span> &middot; 05 271 7000</div></a></td><td class=\"_HZj\"><a href=\"/url?q=http://www.ncyu.edu.tw/index.aspx&amp;sa=U&amp;ved=0ahUKEwj4_oHKy5TNAhVEHpQKHSs2DTQQgU8IJzAB&amp;usg=AFQjCNH8_6-JInYbsXUUMMyVA-Ay0pxN8Q\" class=\"_chj\"><div class=\"_shj _s3j\"></div><div>網站</div></a></td><td class=\"_HZj _IZj\"><a href=\"https://maps.google.com.tw/maps?um=1&amp;ie=UTF-8&amp;fb=1&amp;gl=tw&amp;sa=X&amp;geocode=Kalnj5lYlG40MXhNnuOT14iL&amp;daddr=600%E5%98%89%E7%BE%A9%E5%B8%82%E6%9D%B1%E5%8D%80%E5%AD%B8%E5%BA%9C%E8%B7%AF300%E8%99%9F\" onclick=\"ctc(this, \\'/gen_204?sa=X\\', this.href);return false;\" class=\"_chj\" data-ved=\"0ahUKEwj4_oHKy5TNAhVEHpQKHSs2DTQQlDsIKDAB\"><div class=\"_shj _ehj\"></div><div>行車路線</div></a></td></table></div><div class=\"_Fxi\"><table class=\"_CXi\"><td><a class=\"_axi\" href=\"/search?ie=UTF-8&amp;q=%E5%9C%8B%E7%AB%8B%E5%98%89%E7%BE%A9%E5%A4%A7%E5%AD%B8%E6%96%B0%E6%B0%91%E6%A0%A1%E5%8D%80+%E5%98%89%E7%BE%A9%E5%B8%82%E8%A5%BF%E5%8D%80&amp;ludocid=16258725413841141507&amp;sa=X&amp;ved=0ahUKEwj4_oHKy5TNAhVEHpQKHSs2DTQQvS4IKjAC\"><div class=\"_uee rllt__wrap-on-expand\" aria-level=\"3\" role=\"heading\">國立嘉義大學新民校區</div><div><span class=\"_PXi\">4.6</span> <g-review-stars><div class=\"_WQf star\"><div style=\"width:59px\">&nbsp;</div></div></g-review-stars> (24) &middot; 大學</div><div></div><div><span>新民路580號</span> &middot; 05 271 7000</div></a></td><td class=\"_HZj\"><a href=\"/url?q=http://www.ncyu.edu.tw/&amp;sa=U&amp;ved=0ahUKEwj4_oHKy5TNAhVEHpQKHSs2DTQQgU8ILzAC&amp;usg=AFQjCNFKKxsZ-SYyigMjHba_tMdtI7gvJQ\" class=\"_chj\"><div class=\"_shj _s3j\"></div><div>網站</div></a></td><td class=\"_HZj _IZj\"><a href=\"https://maps.google.com.tw/maps?um=1&amp;ie=UTF-8&amp;fb=1&amp;gl=tw&amp;sa=X&amp;geocode=Ka-bjucYlG40MQP_nRifmKLh&amp;daddr=600%E5%98%89%E7%BE%A9%E5%B8%82%E8%A5%BF%E5%8D%80%E6%96%B0%E6%B0%91%E8%B7%AF580%E8%99%9F\" onclick=\"ctc(this, \\'/gen_204?sa=X\\', this.href);return false;\" class=\"_chj\" data-ved=\"0ahUKEwj4_oHKy5TNAhVEHpQKHSs2DTQQlDsIMDAC\"><div class=\"_shj _ehj\"></div><div>行車路線</div></a></td></table></div><div><a class=\"_Tbj\" href=\"/search?ie=UTF-8&amp;q=%E5%98%89%E7%BE%A9%E5%A4%A7%E5%AD%B8&amp;npsic=0&amp;rlst=f&amp;rlha=0&amp;rllag=23476023,120463920,2556&amp;sa=X&amp;ved=0ahUKEwj4_oHKy5TNAhVEHpQKHSs2DTQQjGoIMQ\">更多地點</a></div></div><div class=\"g\"><h3 class=\"r\"><a href=\"/url?q=http://www.ncyu.edu.tw/&amp;sa=U&amp;ved=0ahUKEwj4_oHKy5TNAhVEHpQKHSs2DTQQFgg0MAM&amp;usg=AFQjCNFKKxsZ-SYyigMjHba_tMdtI7gvJQ\">歡迎光臨<b>國立嘉義大學</b>資訊入口網站</a></h3><div class=\"s\"><div class=\"kv\" style=\"margin-bottom:2px\"><cite>www.ncyu.edu.tw/</cite><div class=\"_nBb\"><div style=\"display:inline\" onclick=\"google.sham(this);\" aria-expanded=\"false\" aria-haspopup=\"true\" tabindex=\"0\" data-ved=\"0ahUKEwj4_oHKy5TNAhVEHpQKHSs2DTQQ7B0INTAD\"><span class=\"_O0\"></span></div><div style=\"display:none\" class=\"am-dropdown-menu\" role=\"menu\" tabindex=\"-1\"><ul><li class=\"_Ykb\"><a class=\"_Zkb\" href=\"/url?q=http://webcache.googleusercontent.com/search%3Fq%3Dcache:rldHB9yIM0sJ:http://www.ncyu.edu.tw/%252B%25E5%2598%2589%25E7%25BE%25A9%25E5%25A4%25A7%25E5%25AD%25B8%26hl%3Dzh-TW%26ct%3Dclnk&amp;sa=U&amp;ved=0ahUKEwj4_oHKy5TNAhVEHpQKHSs2DTQQIAg3MAM&amp;usg=AFQjCNG-2EqsDFBTTq11FJL3v46QMRy4eg\">頁庫存檔</a></li><li class=\"_Ykb\"><a class=\"_Zkb\" href=\"/search?ie=UTF-8&amp;q=related:www.ncyu.edu.tw/+%E5%98%89%E7%BE%A9%E5%A4%A7%E5%AD%B8&amp;tbo=1&amp;sa=X&amp;ved=0ahUKEwj4_oHKy5TNAhVEHpQKHSs2DTQQHwg4MAM\">類似內容</a></li></ul></div></div></div><span class=\"st\">本校於2000年由國立<b>嘉義</b>師範學院及國立<b>嘉義</b>技術學院兩校整合而成。</span><br></div><table class=\"slk\" style=\"border-collapse:collapse;margin-top:1px\" cellpadding=\"0\" cellspacing=\"0\"><tr class=\"mslg\"><td style=\"padding-left:23px;vertical-align:top\"><div class=\"sld\"><h3 class=\"r\"><a class=\"sla\" href=\"/url?q=https://web085004.adm.ncyu.edu.tw/&amp;sa=U&amp;ved=0ahUKEwj4_oHKy5TNAhVEHpQKHSs2DTQQjBAIOzAE&amp;usg=AFQjCNEEsq3UlpxNlKy_M-vEqAmAVsrZHg\">校務行政系統</a></h3><div class=\"s st\" style=\"width:220px;overflow:hidden\">本系統自103學年度起不再提供「電子郵件帳號」認證登入，請使用「校 ...</div></div></td><td style=\"padding-left:7px;vertical-align:top\"><div class=\"sld\"><h3 class=\"r\"><a class=\"sla\" href=\"/url?q=http://www.ncyu.edu.tw/gradation.aspx%3Fsite_content_sn%3D8314&amp;sa=U&amp;ved=0ahUKEwj4_oHKy5TNAhVEHpQKHSs2DTQQjBAIPTAH&amp;usg=AFQjCNEmozXHnh74ZI3hQxQ0pA70xnMgxw\">E化校園</a></h3><div class=\"s st\" style=\"width:220px;overflow:hidden\">你現在的位置：首頁 &gt; E化校園. *, E化校園. * 校務行政系統 ...</div></div></td></tr><tr class=\"mslg\"><td style=\"padding-left:23px;vertical-align:top\"><div class=\"sld\"><h3 class=\"r\"><a class=\"sla\" href=\"/url?q=http://elearning.ncyu.edu.tw/&amp;sa=U&amp;ved=0ahUKEwj4_oHKy5TNAhVEHpQKHSs2DTQQjBAIPzAF&amp;usg=AFQjCNFHxjbgwI1I7neRLjPyCkYWRfunqg\">嘉大輔助教學平台</a></h3><div class=\"s st\" style=\"width:220px;overflow:hidden\">請輸入帳號名稱與密碼進行登入 (您的瀏覽器必須啟動Cookies 功能 ...</div></div></td><td style=\"padding-left:7px;vertical-align:top\"><div class=\"sld\"><h3 class=\"r\"><a class=\"sla\" href=\"/url?q=http://www.ncyu.edu.tw/gradation.aspx%3Fsite_content_sn%3D17306&amp;sa=U&amp;ved=0ahUKEwj4_oHKy5TNAhVEHpQKHSs2DTQQjBAIQTAI&amp;usg=AFQjCNES0_PHow4NMk8PVEA6jFpyU0UXgA\">招生資訊</a></h3><div class=\"s st\" style=\"width:220px;overflow:hidden\">招生資訊. * 教學研究單位. * 行政單位. * .... 招生資訊_舊. * 日間學制 ...</div></div></td></tr><tr class=\"mslg\"><td style=\"padding-left:23px;vertical-align:top\"><div class=\"sld\"><h3 class=\"r\"><a class=\"sla\" href=\"/url?q=http://www.ncyu.edu.tw/lib/&amp;sa=U&amp;ved=0ahUKEwj4_oHKy5TNAhVEHpQKHSs2DTQQjBAIQzAG&amp;usg=AFQjCNGltF3COF242mPw5A8Y5B59JQPoDA\">圖書館</a></h3><div class=\"s st\" style=\"width:220px;overflow:hidden\">查詢系統&nbsp;- 電子資源查詢&nbsp;- 開館時間&nbsp;- 館藏資源&nbsp;- <b>...</b></div></div></td><td style=\"padding-left:7px;vertical-align:top\"><div class=\"sld\"><h3 class=\"r\"><a class=\"sla\" href=\"/url?q=http://www.ncyu.edu.tw/content.aspx%3Fsite_content_sn%3D23489&amp;sa=U&amp;ved=0ahUKEwj4_oHKy5TNAhVEHpQKHSs2DTQQjBAIRTAJ&amp;usg=AFQjCNHQj2wjXoZjCbz5hVj9-Q60HUfU5w\">行政單位</a></h3><div class=\"s st\" style=\"width:220px;overflow:hidden\">電子計算機中心&nbsp;- 圖書館&nbsp;- 師資培育中心&nbsp;- 語言中心&nbsp;- <b>...</b></div></div></td></tr></table></div><div class=\"g\"><h3 class=\"r\"><a href=\"/url?q=https://zh.wikipedia.org/zh-tw/%25E5%259C%258B%25E7%25AB%258B%25E5%2598%2589%25E7%25BE%25A9%25E5%25A4%25A7%25E5%25AD%25B8&amp;sa=U&amp;ved=0ahUKEwj4_oHKy5TNAhVEHpQKHSs2DTQQFghHMAo&amp;usg=AFQjCNGt8fK545WjyEBrOxCKPQG9UWmjHA\"><b>國立嘉義大學</b>- &#32500;基百科，自由的百科全&#20070;</a></h3><div class=\"s\"><div class=\"kv\" style=\"margin-bottom:2px\"><cite>https://zh.wikipedia.org/zh-tw/國立<b>嘉義大學</b></cite><div class=\"_nBb\"><div style=\"display:inline\" onclick=\"google.sham(this);\" aria-expanded=\"false\" aria-haspopup=\"true\" tabindex=\"0\" data-ved=\"0ahUKEwj4_oHKy5TNAhVEHpQKHSs2DTQQ7B0ISDAK\"><span class=\"_O0\"></span></div><div style=\"display:none\" class=\"am-dropdown-menu\" role=\"menu\" tabindex=\"-1\"><ul><li class=\"_Ykb\"><a class=\"_Zkb\" href=\"/url?q=http://webcache.googleusercontent.com/search%3Fq%3Dcache:n0wIXE8IM1IJ:https://zh.wikipedia.org/zh-tw/%2525E5%25259C%25258B%2525E7%2525AB%25258B%2525E5%252598%252589%2525E7%2525BE%2525A9%2525E5%2525A4%2525A7%2525E5%2525AD%2525B8%252B%25E5%2598%2589%25E7%25BE%25A9%25E5%25A4%25A7%25E5%25AD%25B8%26hl%3Dzh-TW%26ct%3Dclnk&amp;sa=U&amp;ved=0ahUKEwj4_oHKy5TNAhVEHpQKHSs2DTQQIAhKMAo&amp;usg=AFQjCNHel6EpHNdO99FHvZ78htcm_LN83w\">頁庫存檔</a></li><li class=\"_Ykb\"><a class=\"_Zkb\" href=\"/search?ie=UTF-8&amp;q=related:https://zh.wikipedia.org/zh-tw/%25E5%259C%258B%25E7%25AB%258B%25E5%2598%2589%25E7%25BE%25A9%25E5%25A4%25A7%25E5%25AD%25B8+%E5%98%89%E7%BE%A9%E5%A4%A7%E5%AD%B8&amp;tbo=1&amp;sa=X&amp;ved=0ahUKEwj4_oHKy5TNAhVEHpQKHSs2DTQQHwhLMAo\">類似內容</a></li></ul></div></div></div><span class=\"st\"><b>國立嘉義大學</b>，簡稱<b>嘉義大學</b>、<b>嘉大</b>，是位於台灣嘉義縣市的國立大學，也是雲嘉地區<br>\\n最具歷史的綜合大學。2000年2月由時嘉義技術學院及嘉義師範學院整併而成。</span><br></div></div><div class=\"g\"><h3 class=\"r\"><a href=\"/url?q=https://www.dcard.tw/f/ncyu&amp;sa=U&amp;ved=0ahUKEwj4_oHKy5TNAhVEHpQKHSs2DTQQFghNMAs&amp;usg=AFQjCNEsDNOp5oh9sv5Tsk1QJwX7EjPFWw\"><b>嘉義大學</b> - Dcard</a></h3><div class=\"s\"><div class=\"kv\" style=\"margin-bottom:2px\"><cite>https://www.dcard.tw/f/ncyu</cite><div class=\"_nBb\"><div style=\"display:inline\" onclick=\"google.sham(this);\" aria-expanded=\"false\" aria-haspopup=\"true\" tabindex=\"0\" data-ved=\"0ahUKEwj4_oHKy5TNAhVEHpQKHSs2DTQQ7B0ITjAL\"><span class=\"_O0\"></span></div><div style=\"display:none\" class=\"am-dropdown-menu\" role=\"menu\" tabindex=\"-1\"><ul><li class=\"_Ykb\"><a class=\"_Zkb\" href=\"/url?q=http://webcache.googleusercontent.com/search%3Fq%3Dcache:EEvvTD9WdnEJ:https://www.dcard.tw/f/ncyu%252B%25E5%2598%2589%25E7%25BE%25A9%25E5%25A4%25A7%25E5%25AD%25B8%26hl%3Dzh-TW%26ct%3Dclnk&amp;sa=U&amp;ved=0ahUKEwj4_oHKy5TNAhVEHpQKHSs2DTQQIAhQMAs&amp;usg=AFQjCNG4dMFjDJyY8adYYSXd8zOd946r3Q\">頁庫存檔</a></li><li class=\"_Ykb\"><a class=\"_Zkb\" href=\"/search?ie=UTF-8&amp;q=related:https://www.dcard.tw/f/ncyu+%E5%98%89%E7%BE%A9%E5%A4%A7%E5%AD%B8&amp;tbo=1&amp;sa=X&amp;ved=0ahUKEwj4_oHKy5TNAhVEHpQKHSs2DTQQHwhRMAs\">類似內容</a></li></ul></div></div></div><span class=\"st\">先祝各位大四學長姐畢業快樂。 可是可不可以畢業歌播一兩次就好， 從早上八點播<br>\\n到現在還沒停。 這美好星期日的早晨， 難得可以好好休息的假日， 是要怎麼睡啊？</span><br></div></div><div class=\"g\"><h3 class=\"r\"><a href=\"/url?q=https://www.facebook.com/ncyushop&amp;sa=U&amp;ved=0ahUKEwj4_oHKy5TNAhVEHpQKHSs2DTQQFghTMAw&amp;usg=AFQjCNFA7ifj8835aLYGICDPSzRdVnT3Wg\"><b>嘉義大學</b>合作社 - Facebook</a></h3><div class=\"s\"><div class=\"kv\" style=\"margin-bottom:2px\"><cite>https://www.facebook.com/ncyushop</cite><div class=\"_nBb\"><div style=\"display:inline\" onclick=\"google.sham(this);\" aria-expanded=\"false\" aria-haspopup=\"true\" tabindex=\"0\" data-ved=\"0ahUKEwj4_oHKy5TNAhVEHpQKHSs2DTQQ7B0IVDAM\"><span class=\"_O0\"></span></div><div style=\"display:none\" class=\"am-dropdown-menu\" role=\"menu\" tabindex=\"-1\"><ul><li class=\"_Ykb\"><a class=\"_Zkb\" href=\"/url?q=http://webcache.googleusercontent.com/search%3Fq%3Dcache:rUZnjEt_wukJ:https://www.facebook.com/ncyushop%252B%25E5%2598%2589%25E7%25BE%25A9%25E5%25A4%25A7%25E5%25AD%25B8%26hl%3Dzh-TW%26ct%3Dclnk&amp;sa=U&amp;ved=0ahUKEwj4_oHKy5TNAhVEHpQKHSs2DTQQIAhWMAw&amp;usg=AFQjCNFwnDHQfXH9bsOt-BHkXtdW2-djzw\">頁庫存檔</a></li></ul></div></div></div><span class=\"st\"><b>嘉義大學</b>合作社. 1391 likes · 70 talking about this. 嘉義大學員生消費合作社.</span><br></div></div><div class=\"g\"><h3 class=\"r\"><a href=\"/url?q=https://www.facebook.com/pages/%25E5%2598%2589%25E7%25BE%25A9%25E5%25A4%25A7%25E5%25AD%25B8/108663652498259&amp;sa=U&amp;ved=0ahUKEwj4_oHKy5TNAhVEHpQKHSs2DTQQFghYMA0&amp;usg=AFQjCNFQ9WaSoQwwVrmBUFY06VM2uk__FA\"><b>嘉義大學</b>| Facebook</a></h3><div class=\"s\"><div class=\"kv\" style=\"margin-bottom:2px\"><cite>https://www.facebook.com/pages/<b>嘉義大學</b>/108663652498259</cite><div class=\"_nBb\"><div style=\"display:inline\" onclick=\"google.sham(this);\" aria-expanded=\"false\" aria-haspopup=\"true\" tabindex=\"0\" data-ved=\"0ahUKEwj4_oHKy5TNAhVEHpQKHSs2DTQQ7B0IWTAN\"><span class=\"_O0\"></span></div><div style=\"display:none\" class=\"am-dropdown-menu\" role=\"menu\" tabindex=\"-1\"><ul><li class=\"_Ykb\"><a class=\"_Zkb\" href=\"/url?q=http://webcache.googleusercontent.com/search%3Fq%3Dcache:DsaDwvAyaz8J:https://www.facebook.com/pages/%2525E5%252598%252589%2525E7%2525BE%2525A9%2525E5%2525A4%2525A7%2525E5%2525AD%2525B8/108663652498259%252B%25E5%2598%2589%25E7%25BE%25A9%25E5%25A4%25A7%25E5%25AD%25B8%26hl%3Dzh-TW%26ct%3Dclnk&amp;sa=U&amp;ved=0ahUKEwj4_oHKy5TNAhVEHpQKHSs2DTQQIAhbMA0&amp;usg=AFQjCNE7lCvI9V2z516P_7w2a6nqNhfBFA\">頁庫存檔</a></li><li class=\"_Ykb\"><a class=\"_Zkb\" href=\"/search?ie=UTF-8&amp;q=related:https://www.facebook.com/pages/%25E5%2598%2589%25E7%25BE%25A9%25E5%25A4%25A7%25E5%25AD%25B8/108663652498259+%E5%98%89%E7%BE%A9%E5%A4%A7%E5%AD%B8&amp;tbo=1&amp;sa=X&amp;ved=0ahUKEwj4_oHKy5TNAhVEHpQKHSs2DTQQHwhcMA0\">類似內容</a></li></ul></div></div></div><span class=\"st\">This Page is automatically generated based on what Facebook users are <br>\\ninterested in, and not affiliated with or endorsed by anyone associated with the <br>\\ntopic.</span><br></div></div><div class=\"g\"><h3 class=\"r\"><a href=\"/url?q=https://www.facebook.com/chaiyiLTCM/&amp;sa=U&amp;ved=0ahUKEwj4_oHKy5TNAhVEHpQKHSs2DTQQFgheMA4&amp;usg=AFQjCNH-QViX9ornuKhc5YFlD-KN2wex8w\"><b>嘉義大學</b>蘭潭國樂團 - Facebook</a></h3><div class=\"s\"><div class=\"kv\" style=\"margin-bottom:2px\"><cite>https://www.facebook.com/chaiyiLTCM/</cite><div class=\"_nBb\"><div style=\"display:inline\" onclick=\"google.sham(this);\" aria-expanded=\"false\" aria-haspopup=\"true\" tabindex=\"0\" data-ved=\"0ahUKEwj4_oHKy5TNAhVEHpQKHSs2DTQQ7B0IXzAO\"><span class=\"_O0\"></span></div><div style=\"display:none\" class=\"am-dropdown-menu\" role=\"menu\" tabindex=\"-1\"><ul><li class=\"_Ykb\"><a class=\"_Zkb\" href=\"/url?q=http://webcache.googleusercontent.com/search%3Fq%3Dcache:_mYO43eZgnUJ:https://www.facebook.com/chaiyiLTCM/%252B%25E5%2598%2589%25E7%25BE%25A9%25E5%25A4%25A7%25E5%25AD%25B8%26hl%3Dzh-TW%26ct%3Dclnk&amp;sa=U&amp;ved=0ahUKEwj4_oHKy5TNAhVEHpQKHSs2DTQQIAhhMA4&amp;usg=AFQjCNHb4hpKFvkaqO6LSJDlYpTvjwBNdg\">頁庫存檔</a></li></ul></div></div></div><span class=\"st\"><b>嘉義大學</b>蘭潭國樂團, 嘉義市（Chiayi）. 531 likes · 5 talking about this. 我們歡迎<br>\\n喜愛國樂的你加入！！ 團練時間為每週一、四晚上6:30~9:00 成果發表音樂會及賽<br>\\n前&nbsp;...</span><br></div></div><div class=\"g\"><h3 class=\"r\"><a href=\"/url?q=https://www.post.gov.tw/post/internet/I_location/index_post.jsp%3Fprsb_no%3D005122-4&amp;sa=U&amp;ved=0ahUKEwj4_oHKy5TNAhVEHpQKHSs2DTQQFghjMA8&amp;usg=AFQjCNH-eNtLMpcRM_GQgjTMKWFwDZpfJA\"><b>嘉義大學</b>郵局 - 中華郵政全球資訊網</a></h3><div class=\"s\"><div class=\"kv\" style=\"margin-bottom:2px\"><cite>https://www.post.gov.tw/post/internet/I.../index_post.jsp?prsb...</cite><div class=\"_nBb\"><div style=\"display:inline\" onclick=\"google.sham(this);\" aria-expanded=\"false\" aria-haspopup=\"true\" tabindex=\"0\" data-ved=\"0ahUKEwj4_oHKy5TNAhVEHpQKHSs2DTQQ7B0IZDAP\"><span class=\"_O0\"></span></div><div style=\"display:none\" class=\"am-dropdown-menu\" role=\"menu\" tabindex=\"-1\"><ul><li class=\"_Ykb\"><a class=\"_Zkb\" href=\"/url?q=http://webcache.googleusercontent.com/search%3Fq%3Dcache:SVeKaQ2p_1AJ:https://www.post.gov.tw/post/internet/I_location/index_post.jsp%3Fprsb_no%253D005122-4%252B%25E5%2598%2589%25E7%25BE%25A9%25E5%25A4%25A7%25E5%25AD%25B8%26hl%3Dzh-TW%26ct%3Dclnk&amp;sa=U&amp;ved=0ahUKEwj4_oHKy5TNAhVEHpQKHSs2DTQQIAhmMA8&amp;usg=AFQjCNFe7RBBiYAs9MP2QVn1CBJbyj4Bfw\">頁庫存檔</a></li><li class=\"_Ykb\"><a class=\"_Zkb\" href=\"/search?ie=UTF-8&amp;q=related:https://www.post.gov.tw/post/internet/I_location/index_post.jsp%3Fprsb_no%3D005122-4+%E5%98%89%E7%BE%A9%E5%A4%A7%E5%AD%B8&amp;tbo=1&amp;sa=X&amp;ved=0ahUKEwj4_oHKy5TNAhVEHpQKHSs2DTQQHwhnMA8\">類似內容</a></li></ul></div></div></div><span class=\"st\">局號 005122-4; 局名 <b>嘉義大學</b>郵局(嘉義22支); 郵務局號 600022; 成立日期 民國89<br>\\n年2月1日; 電話 郵務: (05)2771-612 儲匯:(05)2771-612; 傳真 郵務: (05)2750-091&nbsp;...</span><br></div></div></ol></div></div></div><div style=\"clear:both;margin-bottom:17px;overflow:hidden\"><div style=\"font-size:16px;padding:0 8px 1px\">與「<b>嘉義大學</b>」相關的搜尋查詢</div><table border=\"0\" cellpadding=\"0\" cellspacing=\"0\"><tr><td valign=\"top\"><p class=\"_Bmc\" style=\"margin:3px 8px\"><a href=\"/search?ie=UTF-8&amp;q=%E5%98%89%E7%BE%A9%E5%A4%A7%E5%AD%B8%E8%98%AD%E6%BD%AD%E6%A0%A1%E5%8D%80&amp;revid=1636152988&amp;sa=X&amp;ved=0ahUKEwj4_oHKy5TNAhVEHpQKHSs2DTQQ1QIIaigA\">嘉義大學蘭潭校區</a></p></td><td valign=\"top\" style=\"padding-left:10px\"><p class=\"_Bmc\" style=\"margin:3px 8px\"><a href=\"/search?ie=UTF-8&amp;q=%E5%98%89%E7%BE%A9%E5%A4%A7%E5%AD%B8%E5%AE%BF%E8%88%8D&amp;revid=1636152988&amp;sa=X&amp;ved=0ahUKEwj4_oHKy5TNAhVEHpQKHSs2DTQQ1QIIaygB\">嘉義大學宿舍</a></p></td></tr><tr><td valign=\"top\"><p class=\"_Bmc\" style=\"margin:3px 8px\"><a href=\"/search?ie=UTF-8&amp;q=%E5%98%89%E7%BE%A9%E5%A4%A7%E5%AD%B8%E9%80%B2%E4%BF%AE%E6%8E%A8%E5%BB%A3%E9%83%A8&amp;revid=1636152988&amp;sa=X&amp;ved=0ahUKEwj4_oHKy5TNAhVEHpQKHSs2DTQQ1QIIbCgC\">嘉義大學進修推廣部</a></p></td><td valign=\"top\" style=\"padding-left:10px\"><p class=\"_Bmc\" style=\"margin:3px 8px\"><a href=\"/search?ie=UTF-8&amp;q=%E5%98%89%E7%BE%A9%E5%A4%A7%E5%AD%B8+%E8%A1%8C%E4%BA%8B%E6%9B%86&amp;revid=1636152988&amp;sa=X&amp;ved=0ahUKEwj4_oHKy5TNAhVEHpQKHSs2DTQQ1QIIbSgD\">嘉義大學 行事曆</a></p></td></tr><tr><td valign=\"top\"><p class=\"_Bmc\" style=\"margin:3px 8px\"><a href=\"/search?ie=UTF-8&amp;q=%E5%98%89%E7%BE%A9%E5%A4%A7%E5%AD%B8%E6%B0%91%E9%9B%84%E6%A0%A1%E5%8D%80&amp;revid=1636152988&amp;sa=X&amp;ved=0ahUKEwj4_oHKy5TNAhVEHpQKHSs2DTQQ1QIIbigE\">嘉義大學民雄校區</a></p></td><td valign=\"top\" style=\"padding-left:10px\"><p class=\"_Bmc\" style=\"margin:3px 8px\"><a href=\"/search?ie=UTF-8&amp;q=%E5%8F%B0%E5%8D%97%E5%A4%A7%E5%AD%B8&amp;revid=1636152988&amp;sa=X&amp;ved=0ahUKEwj4_oHKy5TNAhVEHpQKHSs2DTQQ1QIIbygF\">台南大學</a></p></td></tr><tr><td valign=\"top\"><p class=\"_Bmc\" style=\"margin:3px 8px\"><a href=\"/search?ie=UTF-8&amp;q=%E5%98%89%E7%BE%A9%E5%A4%A7%E5%AD%B8%E6%96%B0%E6%B0%91%E6%A0%A1%E5%8D%80&amp;revid=1636152988&amp;sa=X&amp;ved=0ahUKEwj4_oHKy5TNAhVEHpQKHSs2DTQQ1QIIcCgG\">嘉義大學新民校區</a></p></td><td valign=\"top\" style=\"padding-left:10px\"><p class=\"_Bmc\" style=\"margin:3px 8px\"><a href=\"/search?ie=UTF-8&amp;q=%E5%98%89%E7%BE%A9%E6%99%AF%E9%BB%9E&amp;revid=1636152988&amp;sa=X&amp;ved=0ahUKEwj4_oHKy5TNAhVEHpQKHSs2DTQQ1QIIcSgH\">嘉義景點</a></p></td></tr><tr><td valign=\"top\"><p class=\"_Bmc\" style=\"margin:3px 8px\"><a href=\"/search?ie=UTF-8&amp;q=%E5%98%89%E7%BE%A9%E5%A4%A7%E5%AD%B8+%E4%BF%A1%E7%AE%B1&amp;revid=1636152988&amp;sa=X&amp;ved=0ahUKEwj4_oHKy5TNAhVEHpQKHSs2DTQQ1QIIcigI\">嘉義大學 信箱</a></p></td><td valign=\"top\" style=\"padding-left:10px\"><p class=\"_Bmc\" style=\"margin:3px 8px\"><a href=\"/search?ie=UTF-8&amp;q=%E4%B8%AD%E6%AD%A3%E5%A4%A7%E5%AD%B8&amp;revid=1636152988&amp;sa=X&amp;ved=0ahUKEwj4_oHKy5TNAhVEHpQKHSs2DTQQ1QIIcygJ\">中正大學</a></p></td></tr></table></div></div><div id=\"foot\"><table align=\"center\" border=\"0\" cellpadding=\"0\" cellspacing=\"0\" id=\"nav\"><tr valign=\"top\"><td align=\"left\" class=\"b\"><span class=\"csb\" style=\"background-position:-24px 0;width:28px\"></span><b></b></td><td><span class=\"csb\" style=\"background-position:-53px 0;width:20px\"></span><b>1</b></td><td><a class=\"fl\" href=\"/search?q=%E5%98%89%E7%BE%A9%E5%A4%A7%E5%AD%B8&amp;ie=UTF-8&amp;prmd=ivns&amp;ei=CgxWV_jRM8S80ASr7LSgAw&amp;start=10&amp;sa=N\"><span class=\"csb\" style=\"background-position:-74px 0;width:20px\"></span>2</a></td><td><a class=\"fl\" href=\"/search?q=%E5%98%89%E7%BE%A9%E5%A4%A7%E5%AD%B8&amp;ie=UTF-8&amp;prmd=ivns&amp;ei=CgxWV_jRM8S80ASr7LSgAw&amp;start=20&amp;sa=N\"><span class=\"csb\" style=\"background-position:-74px 0;width:20px\"></span>3</a></td><td><a class=\"fl\" href=\"/search?q=%E5%98%89%E7%BE%A9%E5%A4%A7%E5%AD%B8&amp;ie=UTF-8&amp;prmd=ivns&amp;ei=CgxWV_jRM8S80ASr7LSgAw&amp;start=30&amp;sa=N\"><span class=\"csb\" style=\"background-position:-74px 0;width:20px\"></span>4</a></td><td><a class=\"fl\" href=\"/search?q=%E5%98%89%E7%BE%A9%E5%A4%A7%E5%AD%B8&amp;ie=UTF-8&amp;prmd=ivns&amp;ei=CgxWV_jRM8S80ASr7LSgAw&amp;start=40&amp;sa=N\"><span class=\"csb\" style=\"background-position:-74px 0;width:20px\"></span>5</a></td><td><a class=\"fl\" href=\"/search?q=%E5%98%89%E7%BE%A9%E5%A4%A7%E5%AD%B8&amp;ie=UTF-8&amp;prmd=ivns&amp;ei=CgxWV_jRM8S80ASr7LSgAw&amp;start=50&amp;sa=N\"><span class=\"csb\" style=\"background-position:-74px 0;width:20px\"></span>6</a></td><td><a class=\"fl\" href=\"/search?q=%E5%98%89%E7%BE%A9%E5%A4%A7%E5%AD%B8&amp;ie=UTF-8&amp;prmd=ivns&amp;ei=CgxWV_jRM8S80ASr7LSgAw&amp;start=60&amp;sa=N\"><span class=\"csb\" style=\"background-position:-74px 0;width:20px\"></span>7</a></td><td><a class=\"fl\" href=\"/search?q=%E5%98%89%E7%BE%A9%E5%A4%A7%E5%AD%B8&amp;ie=UTF-8&amp;prmd=ivns&amp;ei=CgxWV_jRM8S80ASr7LSgAw&amp;start=70&amp;sa=N\"><span class=\"csb\" style=\"background-position:-74px 0;width:20px\"></span>8</a></td><td><a class=\"fl\" href=\"/search?q=%E5%98%89%E7%BE%A9%E5%A4%A7%E5%AD%B8&amp;ie=UTF-8&amp;prmd=ivns&amp;ei=CgxWV_jRM8S80ASr7LSgAw&amp;start=80&amp;sa=N\"><span class=\"csb\" style=\"background-position:-74px 0;width:20px\"></span>9</a></td><td><a class=\"fl\" href=\"/search?q=%E5%98%89%E7%BE%A9%E5%A4%A7%E5%AD%B8&amp;ie=UTF-8&amp;prmd=ivns&amp;ei=CgxWV_jRM8S80ASr7LSgAw&amp;start=90&amp;sa=N\"><span class=\"csb\" style=\"background-position:-74px 0;width:20px\"></span>10</a></td><td class=\"b\" style=\"text-align:left\"><a class=\"fl\" href=\"/search?q=%E5%98%89%E7%BE%A9%E5%A4%A7%E5%AD%B8&amp;ie=UTF-8&amp;prmd=ivns&amp;ei=CgxWV_jRM8S80ASr7LSgAw&amp;start=10&amp;sa=N\" style=\"text-align:left\"><span class=\"csb\" style=\"background-position:-96px 0;width:71px\"></span><span style=\"display:block;margin-left:53px\">下一頁</span></a></td></tr></table><p class=\"_cD\" id=\"bfl\" style=\"margin:19px 0 0;text-align:center\"><a href=\"/advanced_search?q=%E5%98%89%E7%BE%A9%E5%A4%A7%E5%AD%B8&amp;ie=UTF-8&amp;prmd=ivns\">進階搜尋</a><a href=\"/support/websearch/bin/answer.py?answer=134479&amp;hl=zh-TW\">搜尋說明</a> <a href=\"/tools/feedback/survey/html?productId=196&amp;query=%E5%98%89%E7%BE%A9%E5%A4%A7%E5%AD%B8&amp;hl=zh-TW\">提供意見</a></p><div class=\"_cD\" id=\"fll\" style=\"margin:19px auto 19px auto;text-align:center\"><a href=\"/\"> Google 首頁 </a> <a href=\"/intl/zh-TW/ads\">廣告計劃</a> <a href=\"/intl/zh-TW/policies/privacy/\">隱私權</a> <a href=\"/intl/zh-TW/policies/terms/\">服務條款</a> <a href=\"/intl/zh-TW/about.html\">關於 Google</a></div></div></td><td id=\"rhs_block\" valign=\"top\"><ol><div class=\"g\"><div id=\"_Oce\"><div class=\"_Pce\"><div><div class=\"_C5d\">查看以下內容的搜尋結果：</div></div></div><div class=\"_Pce\"><div class=\"_S4d\"><table class=\"_R4d\"><tr><td class=\"_P4d\"><a class=\"fl\" href=\"/search?ie=UTF-8&amp;q=%E5%9C%8B%E7%AB%8B%E5%98%89%E7%BE%A9%E5%A4%A7%E5%AD%B8&amp;stick=H4sIAAAAAAAAAONgecSYzi3w8sc9Yam4SWtOXmOM4OIKzsgvd80rySypFPLiYoOy5Lj4pLj0c_UNkguS0g3TNRikeLiQ-FIKSly833n_8orOmHTBXUuIc2V6_8yIKXkmghW-8x5Pvt7RzQMAnxlnemwAAAA&amp;sa=X&amp;ved=0ahUKEwj4_oHKy5TNAhVEHpQKHSs2DTQQ-DIIfDAR\"><div class=\"_fce _Qbe\">國立嘉義大學 (位於中華民國的國立大學)</div><div class=\"_Vbe _Qbe\">知名校友： 魏暉倪， 黃敏惠， 陳以真， 陳明文， 黃秀霜</div><div class=\"_Vbe _Qbe\">所屬省份： 台灣省</div></a></td><td width=\"40\"><a href=\"/search?ie=UTF-8&amp;q=%E5%9C%8B%E7%AB%8B%E5%98%89%E7%BE%A9%E5%A4%A7%E5%AD%B8&amp;stick=H4sIAAAAAAAAAONgecSYzi3w8sc9Yam4SWtOXmOM4OIKzsgvd80rySypFPLiYoOy5Lj4pLj0c_UNkguS0g3TNRikeLiQ-FIKSly833n_8orOmHTBXUuIc2V6_8yIKXkmghW-8x5Pvt7RzQMAnxlnemwAAAA&amp;sa=X&amp;ved=0ahUKEwj4_oHKy5TNAhVEHpQKHSs2DTQQ-DIIfzAR\"><img class=\"_T4d\" src=\"https://encrypted-tbn2.gstatic.com/images?q=tbn:ANd9GcQLRPy7uTLDOPpxnCEaTjbVWcz8ppZxM4aU7wJkwuF93dQxLzKBaio\" height=\"40\" width=\"40\"></a></td></tr></table></div></div></div></div><div class=\"g\"></div></ol></td></tr></tbody></table><script type=\"text/javascript\">(function(){var eventid=\\'CgxWV_jRM8S80ASr7LSgAw\\';google.kEI = eventid;})();</script><script src=\"/xjs/_/js/k=xjs.hp.en_US.aTtcG9G1acg.O/m=sb_he,d/rt=j/d=1/t=zcms/rs=ACT90oEIe7Vx-cniwmkzrUQI_VrII_nUTA\"></script><script type=\"text/javascript\">google.ac&&google.ac.c({\"agen\":true,\"cgen\":true,\"client\":\"heirloom-serp\",\"dh\":true,\"dhqt\":true,\"ds\":\"\",\"fl\":true,\"host\":\"google.com.tw\",\"isbh\":28,\"jam\":0,\"jsonp\":true,\"msgs\":{\"cibl\":\"清除搜尋\",\"dym\":\"您是不是要查：\",\"lcky\":\"好手氣\",\"lml\":\"瞭解詳情\",\"oskt\":\"輸入工具\",\"psrc\":\"已從您的「\\\\u003Ca href=\\\\\"/history\\\\\"\\\\u003E網頁紀錄\\\\u003C/a\\\\u003E」中移除這筆搜尋紀錄\",\"psrl\":\"移除\",\"sbit\":\"以圖搜尋\",\"srch\":\"Google 搜尋\"},\"ovr\":{},\"pq\":\"嘉義大學\",\"refpd\":true,\"refspre\":true,\"rfs\":[\"嘉義大學蘭潭校區\",\"嘉義大學進修推廣部\",\"嘉義大學民雄校區\",\"嘉義大學新民校區\",\"嘉義大學 信箱\",\"嘉義大學宿舍\",\"嘉義大學 行事曆\",\"台南大學\",\"嘉義景點\",\"中正大學\"],\"scd\":10,\"sce\":5,\"stok\":\"qJkNNVsg4hPyP0SgMn4H51YEljA\"})</script><script>(function(){window.google.cdo={height:0,width:0};(function(){var a=window.innerWidth,b=window.innerHeight;if(!a||!b)var c=window.document,d=\"CSS1Compat\"==c.compatMode?c.documentElement:c.body,a=d.clientWidth,b=d.clientHeight;a&&b&&(a!=google.cdo.width||b!=google.cdo.height)&&google.log(\"\",\"\",\"/client_204?&atyp=i&biw=\"+a+\"&bih=\"+b+\"&ei=\"+google.kEI);})();})();</script></body></html>'"
      ]
     },
     "execution_count": 11,
     "metadata": {},
     "output_type": "execute_result"
    }
   ],
   "source": [
    "response.text"
   ]
  },
  {
   "cell_type": "markdown",
   "metadata": {},
   "source": [
    "## HTTP POST request"
   ]
  },
  {
   "cell_type": "code",
   "execution_count": 12,
   "metadata": {
    "collapsed": false
   },
   "outputs": [
    {
     "name": "stdout",
     "output_type": "stream",
     "text": [
      "<Response [200]>\n"
     ]
    }
   ],
   "source": [
    "response = requests.post(\"http://httpbin.org/post\")\n",
    "print(response)"
   ]
  },
  {
   "cell_type": "code",
   "execution_count": 13,
   "metadata": {
    "collapsed": false
   },
   "outputs": [
    {
     "name": "stdout",
     "output_type": "stream",
     "text": [
      "{\n",
      "  \"args\": {}, \n",
      "  \"data\": \"\", \n",
      "  \"files\": {}, \n",
      "  \"form\": {}, \n",
      "  \"headers\": {\n",
      "    \"Accept\": \"*/*\", \n",
      "    \"Accept-Encoding\": \"gzip, deflate\", \n",
      "    \"Content-Length\": \"0\", \n",
      "    \"Host\": \"httpbin.org\", \n",
      "    \"User-Agent\": \"python-requests/2.10.0\"\n",
      "  }, \n",
      "  \"json\": null, \n",
      "  \"origin\": \"120.113.173.106\", \n",
      "  \"url\": \"http://httpbin.org/post\"\n",
      "}\n",
      "\n"
     ]
    }
   ],
   "source": [
    "print(response.text)"
   ]
  },
  {
   "cell_type": "markdown",
   "metadata": {},
   "source": [
    "## 送一個有參數的 HTTP POST request"
   ]
  },
  {
   "cell_type": "code",
   "execution_count": 14,
   "metadata": {
    "collapsed": true
   },
   "outputs": [],
   "source": [
    "response = requests.post(\"http://httpbin.org/post\", params={\"p\":\"TEST\"})"
   ]
  },
  {
   "cell_type": "code",
   "execution_count": 15,
   "metadata": {
    "collapsed": false
   },
   "outputs": [
    {
     "name": "stdout",
     "output_type": "stream",
     "text": [
      "{\n",
      "  \"args\": {\n",
      "    \"p\": \"TEST\"\n",
      "  }, \n",
      "  \"data\": \"\", \n",
      "  \"files\": {}, \n",
      "  \"form\": {}, \n",
      "  \"headers\": {\n",
      "    \"Accept\": \"*/*\", \n",
      "    \"Accept-Encoding\": \"gzip, deflate\", \n",
      "    \"Content-Length\": \"0\", \n",
      "    \"Host\": \"httpbin.org\", \n",
      "    \"User-Agent\": \"python-requests/2.10.0\"\n",
      "  }, \n",
      "  \"json\": null, \n",
      "  \"origin\": \"120.113.173.106\", \n",
      "  \"url\": \"http://httpbin.org/post?p=TEST\"\n",
      "}\n",
      "\n"
     ]
    }
   ],
   "source": [
    "print( response.text )"
   ]
  },
  {
   "cell_type": "markdown",
   "metadata": {},
   "source": [
    "## 原始檔案下載(圖片，音樂...)"
   ]
  },
  {
   "cell_type": "code",
   "execution_count": 16,
   "metadata": {
    "collapsed": false
   },
   "outputs": [],
   "source": [
    "response = requests.get( \"https://upload.wikimedia.org/wikipedia/commons/8/84/HTML.svg\", stream = True )\n",
    "chunk_size = 1024\n",
    "\n",
    "with open( \"./img.svg\", \"wb\" ) as file:\n",
    "    for chunk in response.iter_content(chunk_size):\n",
    "        file.write(chunk)"
   ]
  },
  {
   "cell_type": "markdown",
   "metadata": {},
   "source": [
    "\n",
    "<img src=\"./img.svg\"/>"
   ]
  },
  {
   "cell_type": "markdown",
   "metadata": {
    "collapsed": true,
    "slideshow": {
     "slide_type": "slide"
    }
   },
   "source": [
    "# BeautifulSoup\n",
    "[Document](https://www.crummy.com/software/BeautifulSoup/bs4/doc/)"
   ]
  },
  {
   "cell_type": "markdown",
   "metadata": {
    "slideshow": {
     "slide_type": "subslide"
    }
   },
   "source": [
    "[HTML](http://ssdoz2sk.github.io)\n"
   ]
  },
  {
   "cell_type": "code",
   "execution_count": 17,
   "metadata": {
    "collapsed": false
   },
   "outputs": [],
   "source": [
    "from bs4 import BeautifulSoup"
   ]
  },
  {
   "cell_type": "code",
   "execution_count": 18,
   "metadata": {
    "collapsed": true,
    "slideshow": {
     "slide_type": "-"
    }
   },
   "outputs": [],
   "source": [
    "html = \"\"\"\n",
    "<html>\n",
    " <head>\n",
    "  <title>\n",
    "    The Link Test\n",
    "  </title>\n",
    " </head>\n",
    " <body>\n",
    "  <p class=\"title\">\n",
    "   <b>\n",
    "    HaHa\n",
    "   </b>\n",
    "  </p>\n",
    "  <p class=\"links\">\n",
    "   <a class=\"link\" href=\"http://www.google.com\" id=\"link1\">Google</a>\n",
    "   <br>\n",
    "   <a class=\"link\" href=\"http://www.ncyu.edu.tw\" id=\"link2\">NCYU</a>\n",
    "   <br>\n",
    "   <a class=\"link\" href=\"http://www.ncyu.edu.tw/csie\" id=\"link2\">CSIE</a>\n",
    "  </p>\n",
    "  <p class=\"links\">\n",
    "   ...\n",
    "  </p>\n",
    " \n",
    "</body></html>\n",
    "\"\"\""
   ]
  },
  {
   "cell_type": "code",
   "execution_count": 19,
   "metadata": {
    "collapsed": true,
    "slideshow": {
     "slide_type": "subslide"
    }
   },
   "outputs": [],
   "source": [
    "soup = BeautifulSoup(html, \"html.parser\")"
   ]
  },
  {
   "cell_type": "code",
   "execution_count": 20,
   "metadata": {
    "collapsed": false,
    "slideshow": {
     "slide_type": "-"
    }
   },
   "outputs": [
    {
     "data": {
      "text/plain": [
       "'\\n    The Link Test\\n  '"
      ]
     },
     "execution_count": 20,
     "metadata": {},
     "output_type": "execute_result"
    }
   ],
   "source": [
    "soup.title.string"
   ]
  },
  {
   "cell_type": "code",
   "execution_count": 21,
   "metadata": {
    "collapsed": false,
    "slideshow": {
     "slide_type": "-"
    }
   },
   "outputs": [
    {
     "data": {
      "text/plain": [
       "<p class=\"title\">\n",
       "<b>\n",
       "    HaHa\n",
       "   </b>\n",
       "</p>"
      ]
     },
     "execution_count": 21,
     "metadata": {},
     "output_type": "execute_result"
    }
   ],
   "source": [
    "soup.p"
   ]
  },
  {
   "cell_type": "code",
   "execution_count": 22,
   "metadata": {
    "collapsed": false,
    "slideshow": {
     "slide_type": "-"
    }
   },
   "outputs": [
    {
     "data": {
      "text/plain": [
       "[<a class=\"link\" href=\"http://www.google.com\" id=\"link1\">Google</a>,\n",
       " <a class=\"link\" href=\"http://www.ncyu.edu.tw\" id=\"link2\">NCYU</a>,\n",
       " <a class=\"link\" href=\"http://www.ncyu.edu.tw/csie\" id=\"link2\">CSIE</a>]"
      ]
     },
     "execution_count": 22,
     "metadata": {},
     "output_type": "execute_result"
    }
   ],
   "source": [
    "soup.find_all('a')"
   ]
  },
  {
   "cell_type": "code",
   "execution_count": 23,
   "metadata": {
    "collapsed": false,
    "slideshow": {
     "slide_type": "subslide"
    }
   },
   "outputs": [
    {
     "data": {
      "text/plain": [
       "[<a class=\"link\" href=\"http://www.google.com\" id=\"link1\">Google</a>]"
      ]
     },
     "execution_count": 23,
     "metadata": {},
     "output_type": "execute_result"
    }
   ],
   "source": [
    "soup.find_all('a', id=\"link1\")"
   ]
  },
  {
   "cell_type": "code",
   "execution_count": 24,
   "metadata": {
    "collapsed": false,
    "slideshow": {
     "slide_type": "-"
    }
   },
   "outputs": [
    {
     "data": {
      "text/plain": [
       "[<a class=\"link\" href=\"http://www.google.com\" id=\"link1\">Google</a>,\n",
       " <a class=\"link\" href=\"http://www.ncyu.edu.tw\" id=\"link2\">NCYU</a>,\n",
       " <a class=\"link\" href=\"http://www.ncyu.edu.tw/csie\" id=\"link2\">CSIE</a>]"
      ]
     },
     "execution_count": 24,
     "metadata": {},
     "output_type": "execute_result"
    }
   ],
   "source": [
    "soup.find_all('a', id=True)"
   ]
  },
  {
   "cell_type": "code",
   "execution_count": 25,
   "metadata": {
    "collapsed": false,
    "slideshow": {
     "slide_type": "-"
    }
   },
   "outputs": [
    {
     "data": {
      "text/plain": [
       "[<a class=\"link\" href=\"http://www.google.com\" id=\"link1\">Google</a>,\n",
       " <a class=\"link\" href=\"http://www.ncyu.edu.tw\" id=\"link2\">NCYU</a>,\n",
       " <a class=\"link\" href=\"http://www.ncyu.edu.tw/csie\" id=\"link2\">CSIE</a>]"
      ]
     },
     "execution_count": 25,
     "metadata": {},
     "output_type": "execute_result"
    }
   ],
   "source": [
    "soup.find_all('a', class_='link')"
   ]
  },
  {
   "cell_type": "code",
   "execution_count": 26,
   "metadata": {
    "collapsed": false,
    "slideshow": {
     "slide_type": "-"
    }
   },
   "outputs": [
    {
     "data": {
      "text/plain": [
       "[<a class=\"link\" href=\"http://www.google.com\" id=\"link1\">Google</a>,\n",
       " <a class=\"link\" href=\"http://www.ncyu.edu.tw\" id=\"link2\">NCYU</a>,\n",
       " <a class=\"link\" href=\"http://www.ncyu.edu.tw/csie\" id=\"link2\">CSIE</a>]"
      ]
     },
     "execution_count": 26,
     "metadata": {},
     "output_type": "execute_result"
    }
   ],
   "source": [
    "soup.find_all('a', attrs={\"class\":\"link\"})"
   ]
  }
 ],
 "metadata": {
  "kernelspec": {
   "display_name": "Python 3",
   "language": "python",
   "name": "python3"
  },
  "language_info": {
   "codemirror_mode": {
    "name": "ipython",
    "version": 3
   },
   "file_extension": ".py",
   "mimetype": "text/x-python",
   "name": "python",
   "nbconvert_exporter": "python",
   "pygments_lexer": "ipython3",
   "version": "3.4.3"
  }
 },
 "nbformat": 4,
 "nbformat_minor": 0
}
