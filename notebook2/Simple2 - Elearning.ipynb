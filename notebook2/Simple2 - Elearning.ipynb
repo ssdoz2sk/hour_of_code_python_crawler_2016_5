{
 "cells": [
  {
   "cell_type": "markdown",
   "metadata": {},
   "source": [
    "## Sample2 - Elearning"
   ]
  },
  {
   "cell_type": "markdown",
   "metadata": {},
   "source": [
    "## Requirement"
   ]
  },
  {
   "cell_type": "code",
   "execution_count": 1,
   "metadata": {
    "collapsed": false
   },
   "outputs": [
    {
     "name": "stdout",
     "output_type": "stream",
     "text": [
      "Requirement already satisfied (use --upgrade to upgrade): requests in /Users/csie/Desktop/hour_of_code_python_crawler_2016_5/venv/notebook/lib/python3.5/site-packages\r\n",
      "\u001b[33mYou are using pip version 7.1.2, however version 8.1.2 is available.\r\n",
      "You should consider upgrading via the 'pip install --upgrade pip' command.\u001b[0m\r\n"
     ]
    }
   ],
   "source": [
    "!pip3 install requests"
   ]
  },
  {
   "cell_type": "code",
   "execution_count": 2,
   "metadata": {
    "collapsed": false
   },
   "outputs": [
    {
     "name": "stdout",
     "output_type": "stream",
     "text": [
      "Requirement already satisfied (use --upgrade to upgrade): beautifulsoup4 in /Users/csie/Desktop/hour_of_code_python_crawler_2016_5/venv/notebook/lib/python3.5/site-packages\n",
      "\u001b[33mYou are using pip version 7.1.2, however version 8.1.2 is available.\n",
      "You should consider upgrading via the 'pip install --upgrade pip' command.\u001b[0m\n"
     ]
    }
   ],
   "source": [
    "!pip3 install beautifulsoup4"
   ]
  },
  {
   "cell_type": "markdown",
   "metadata": {},
   "source": [
    "# Quick Start"
   ]
  },
  {
   "cell_type": "markdown",
   "metadata": {},
   "source": [
    "## Import necessary librarys"
   ]
  },
  {
   "cell_type": "code",
   "execution_count": 3,
   "metadata": {
    "collapsed": true
   },
   "outputs": [],
   "source": [
    "from bs4 import BeautifulSoup\n",
    "\n",
    "#import lxml\n",
    "import requests"
   ]
  },
  {
   "cell_type": "markdown",
   "metadata": {},
   "source": [
    "## Make a request"
   ]
  },
  {
   "cell_type": "code",
   "execution_count": 26,
   "metadata": {
    "collapsed": false
   },
   "outputs": [
    {
     "name": "stdout",
     "output_type": "stream",
     "text": [
      "<RequestsCookieJar[<Cookie MOODLEID_1042elearning=%25ED%25C3%251CC%25B7d for elearning.ncyu.edu.tw/>]>\n"
     ]
    }
   ],
   "source": [
    "url = 'https://elearning.ncyu.edu.tw/1042'"
   ]
  },
  {
   "cell_type": "code",
   "execution_count": 40,
   "metadata": {
    "collapsed": true
   },
   "outputs": [],
   "source": [
    "session = requests.session()"
   ]
  },
  {
   "cell_type": "code",
   "execution_count": 5,
   "metadata": {
    "collapsed": false
   },
   "outputs": [
    {
     "name": "stdout",
     "output_type": "stream",
     "text": [
      "s1023008\n"
     ]
    }
   ],
   "source": [
    "username=input()"
   ]
  },
  {
   "cell_type": "code",
   "execution_count": 1,
   "metadata": {
    "collapsed": false
   },
   "outputs": [
    {
     "name": "stdout",
     "output_type": "stream",
     "text": [
      "ThisIsTest\n"
     ]
    }
   ],
   "source": [
    "password=input()"
   ]
  },
  {
   "cell_type": "code",
   "execution_count": 7,
   "metadata": {
    "collapsed": true
   },
   "outputs": [],
   "source": [
    "d = {\n",
    "    'username':username,\n",
    "    'password':password,\n",
    "    'testcookies':'1'\n",
    "}"
   ]
  },
  {
   "cell_type": "code",
   "execution_count": 41,
   "metadata": {
    "collapsed": false
   },
   "outputs": [
    {
     "data": {
      "text/plain": [
       "<Response [200]>"
      ]
     },
     "execution_count": 41,
     "metadata": {},
     "output_type": "execute_result"
    }
   ],
   "source": [
    "session.get(url)"
   ]
  },
  {
   "cell_type": "code",
   "execution_count": 42,
   "metadata": {
    "collapsed": false
   },
   "outputs": [],
   "source": [
    "response = session.post('https://elearning.ncyu.edu.tw/1042/login/index.php', data = d)"
   ]
  },
  {
   "cell_type": "code",
   "execution_count": 43,
   "metadata": {
    "collapsed": false
   },
   "outputs": [],
   "source": [
    "response = session.get('http://elearning.ncyu.edu.tw/1042/my/index.php?action=mycourse')"
   ]
  },
  {
   "cell_type": "code",
   "execution_count": 44,
   "metadata": {
    "collapsed": false
   },
   "outputs": [],
   "source": [
    "soup = BeautifulSoup(response.text, \"html.parser\")"
   ]
  },
  {
   "cell_type": "code",
   "execution_count": 45,
   "metadata": {
    "collapsed": false
   },
   "outputs": [
    {
     "data": {
      "text/plain": [
       "[<a href=\"index.php\" title=\"最新公告\"><span>最新公告</span></a>,\n",
       " <a class=\"nolink\"><span>我的課程</span></a>,\n",
       " <a href=\"index.php?action=officehour\" title=\"雲端OfficeHour\"><span>雲端OfficeHour</span></a>,\n",
       " <a href=\"index.php?action=history\" title=\"歷年課程\"><span>歷年課程</span></a>,\n",
       " <a href=\"index.php?action=resource\" title=\"線上資源\"><span>線上資源</span></a>,\n",
       " <a href=\"index.php?action=contact\" title=\"聯絡管理者\"><span>聯絡管理者</span></a>,\n",
       " <a href=\"index.php?action=moocs\" title=\"MOOCs專區\"><span>MOOCs專區</span></a>,\n",
       " <a href=\"http://elearning.ncyu.edu.tw/1042/course/view.php?id=2948\\\" title=\"點按進入課程\">導師生交流平台 </a>,\n",
       " <a href=\"http://elearning.ncyu.edu.tw/1042/course/view.php?id=1235\\\" title=\"點按進入課程\">行動裝置應用程式設計   大學部資工系三年級甲班</a>,\n",
       " <a href=\"https://web085003.adm.ncyu.edu.tw/pub_tagoutline.aspx?tagid=10423470055\" target=\"_blank\">https://web085003.adm.ncyu.edu.tw/pub_tagoutline.aspx?tagid=10423470055</a>,\n",
       " <a href=\"http://elearning.ncyu.edu.tw/1042/course/view.php?id=1230\\\" title=\"點按進入課程\">資料探勘導論   大學部資工系三年級甲班</a>,\n",
       " <a href=\"https://web085003.adm.ncyu.edu.tw/pub_tagoutline.aspx?tagid=10423470050\" target=\"_blank\">https://web085003.adm.ncyu.edu.tw/pub_tagoutline.aspx?tagid=10423470050</a>,\n",
       " <a href=\"http://elearning.ncyu.edu.tw/1042/course/view.php?id=1229\\\" title=\"點按進入課程\">安全程式設計   大學部資工系三年級甲班</a>,\n",
       " <a href=\"https://web085003.adm.ncyu.edu.tw/pub_tagoutline.aspx?tagid=10423470048\" target=\"_blank\">https://web085003.adm.ncyu.edu.tw/pub_tagoutline.aspx?tagid=10423470048</a>,\n",
       " <a href=\"http://elearning.ncyu.edu.tw/1042/course/view.php?id=1227\\\" title=\"點按進入課程\">計算機專題（I）   大學部資工系三年級甲班</a>,\n",
       " <a href=\"https://web085003.adm.ncyu.edu.tw/pub_tagoutline.aspx?tagid=10423470036\" target=\"_blank\">https://web085003.adm.ncyu.edu.tw/pub_tagoutline.aspx?tagid=10423470036</a>,\n",
       " <a href=\"http://elearning.ncyu.edu.tw/1042/course/view.php?id=1224\\\" title=\"點按進入課程\">微積分（II）   大學部資工系一年級甲班</a>,\n",
       " <a href=\"https://web085003.adm.ncyu.edu.tw/pub_tagoutline.aspx?tagid=10423470026\" target=\"_blank\">https://web085003.adm.ncyu.edu.tw/pub_tagoutline.aspx?tagid=10423470026</a>,\n",
       " <a href=\"http://elearning.ncyu.edu.tw/1042/course/view.php?id=1219\\\" title=\"點按進入課程\">組合語言與實習   大學部資工系三年級甲班</a>,\n",
       " <a href=\"https://web085003.adm.ncyu.edu.tw/pub_tagoutline.aspx?tagid=10423470013\" target=\"_blank\">https://web085003.adm.ncyu.edu.tw/pub_tagoutline.aspx?tagid=10423470013</a>,\n",
       " <a href=\"http://elearning.ncyu.edu.tw/1042/course/view.php?id=1218\\\" title=\"點按進入課程\">系統程式   大學部資工系三年級甲班</a>,\n",
       " <a href=\"https://web085003.adm.ncyu.edu.tw/pub_tagoutline.aspx?tagid=10423470012\" target=\"_blank\">https://web085003.adm.ncyu.edu.tw/pub_tagoutline.aspx?tagid=10423470012</a>,\n",
       " <a href=\"http://elearning.ncyu.edu.tw/1042/mycc/remoteauth-client2.php?tagid=10423470007\" target=\"_blank\" title=\"點按進入課程\">機率學   大學部資工系二年級甲班</a>,\n",
       " <a href=\"https://web085003.adm.ncyu.edu.tw/pub_tagoutline.aspx?tagid=10423470007\" target=\"_blank\">https://web085003.adm.ncyu.edu.tw/pub_tagoutline.aspx?tagid=10423470007</a>,\n",
       " <a href=\"http://elearning.ncyu.edu.tw/1042/course/view.php?id=89\\\" title=\"點按進入課程\">創業講座(跨)   大學部三年級甲班</a>,\n",
       " <a href=\"https://web085003.adm.ncyu.edu.tw/pub_tagoutline.aspx?tagid=10420150030\" target=\"_blank\">https://web085003.adm.ncyu.edu.tw/pub_tagoutline.aspx?tagid=10420150030</a>,\n",
       " <a href=\"http://elearning.ncyu.edu.tw/1042/user/view.php?id=20161&amp;course=1\">張弘霖 s1023008</a>,\n",
       " <a href=\"http://elearning.ncyu.edu.tw/1042/login/logout.php?sesskey=B39kjGgcEq\">登出</a>]"
      ]
     },
     "execution_count": 45,
     "metadata": {},
     "output_type": "execute_result"
    }
   ],
   "source": [
    "soup.find_all('a')"
   ]
  },
  {
   "cell_type": "code",
   "execution_count": 50,
   "metadata": {
    "collapsed": false
   },
   "outputs": [
    {
     "name": "stdout",
     "output_type": "stream",
     "text": [
      "<a href=\"http://elearning.ncyu.edu.tw/1042/course/view.php?id=2948\\\" title=\"點按進入課程\">導師生交流平台 </a>\n",
      "<a href=\"http://elearning.ncyu.edu.tw/1042/course/view.php?id=1235\\\" title=\"點按進入課程\">行動裝置應用程式設計   大學部資工系三年級甲班</a>\n",
      "<a href=\"http://elearning.ncyu.edu.tw/1042/course/view.php?id=1230\\\" title=\"點按進入課程\">資料探勘導論   大學部資工系三年級甲班</a>\n",
      "<a href=\"http://elearning.ncyu.edu.tw/1042/course/view.php?id=1229\\\" title=\"點按進入課程\">安全程式設計   大學部資工系三年級甲班</a>\n",
      "<a href=\"http://elearning.ncyu.edu.tw/1042/course/view.php?id=1227\\\" title=\"點按進入課程\">計算機專題（I）   大學部資工系三年級甲班</a>\n",
      "<a href=\"http://elearning.ncyu.edu.tw/1042/course/view.php?id=1224\\\" title=\"點按進入課程\">微積分（II）   大學部資工系一年級甲班</a>\n",
      "<a href=\"http://elearning.ncyu.edu.tw/1042/course/view.php?id=1219\\\" title=\"點按進入課程\">組合語言與實習   大學部資工系三年級甲班</a>\n",
      "<a href=\"http://elearning.ncyu.edu.tw/1042/course/view.php?id=1218\\\" title=\"點按進入課程\">系統程式   大學部資工系三年級甲班</a>\n",
      "<a href=\"http://elearning.ncyu.edu.tw/1042/mycc/remoteauth-client2.php?tagid=10423470007\" target=\"_blank\" title=\"點按進入課程\">機率學   大學部資工系二年級甲班</a>\n",
      "<a href=\"http://elearning.ncyu.edu.tw/1042/course/view.php?id=89\\\" title=\"點按進入課程\">創業講座(跨)   大學部三年級甲班</a>\n"
     ]
    }
   ],
   "source": [
    "all_course_tag_a = soup.find_all('a', {'title':'點按進入課程'})\n",
    "for course in all_course_tag_a:\n",
    "    print(course)"
   ]
  },
  {
   "cell_type": "code",
   "execution_count": 52,
   "metadata": {
    "collapsed": false
   },
   "outputs": [
    {
     "name": "stdout",
     "output_type": "stream",
     "text": [
      "http://elearning.ncyu.edu.tw/1042/course/view.php?id=2948\\\n",
      "http://elearning.ncyu.edu.tw/1042/course/view.php?id=1235\\\n",
      "http://elearning.ncyu.edu.tw/1042/course/view.php?id=1230\\\n",
      "http://elearning.ncyu.edu.tw/1042/course/view.php?id=1229\\\n",
      "http://elearning.ncyu.edu.tw/1042/course/view.php?id=1227\\\n",
      "http://elearning.ncyu.edu.tw/1042/course/view.php?id=1224\\\n",
      "http://elearning.ncyu.edu.tw/1042/course/view.php?id=1219\\\n",
      "http://elearning.ncyu.edu.tw/1042/course/view.php?id=1218\\\n",
      "http://elearning.ncyu.edu.tw/1042/mycc/remoteauth-client2.php?tagid=10423470007\n",
      "http://elearning.ncyu.edu.tw/1042/course/view.php?id=89\\\n"
     ]
    }
   ],
   "source": [
    "for course in all_course_tag_a:\n",
    "    print(course['href'])"
   ]
  },
  {
   "cell_type": "code",
   "execution_count": null,
   "metadata": {
    "collapsed": false
   },
   "outputs": [],
   "source": []
  },
  {
   "cell_type": "code",
   "execution_count": null,
   "metadata": {
    "collapsed": false
   },
   "outputs": [],
   "source": []
  },
  {
   "cell_type": "code",
   "execution_count": null,
   "metadata": {
    "collapsed": false
   },
   "outputs": [],
   "source": []
  },
  {
   "cell_type": "code",
   "execution_count": null,
   "metadata": {
    "collapsed": false
   },
   "outputs": [],
   "source": []
  },
  {
   "cell_type": "code",
   "execution_count": null,
   "metadata": {
    "collapsed": false
   },
   "outputs": [],
   "source": []
  }
 ],
 "metadata": {
  "kernelspec": {
   "display_name": "Python 3",
   "language": "python",
   "name": "python3"
  },
  "language_info": {
   "codemirror_mode": {
    "name": "ipython",
    "version": 3
   },
   "file_extension": ".py",
   "mimetype": "text/x-python",
   "name": "python",
   "nbconvert_exporter": "python",
   "pygments_lexer": "ipython3",
   "version": "3.4.3"
  }
 },
 "nbformat": 4,
 "nbformat_minor": 0
}
